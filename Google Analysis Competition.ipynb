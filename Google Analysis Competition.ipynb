{
 "cells": [
  {
   "cell_type": "markdown",
   "metadata": {},
   "source": [
    "### Project outline: \n",
    "\n",
    "- Read data into Jupyter notebook, use pandas to import data into a data frame\n",
    "- Preprocess data: Explore data, check for missing data and apply data scaling. Justify the type of scaling used.\n",
    "- Goal is to predict the **total transaction revenue**. \n",
    "- Decide aboute a good evaluation strategy and justify your choice.\n",
    "- Split dataset into train and test dataset. \n",
    "- Choose two supervised learning model of your choice to train on train set. Use proper methods to find the best parameters. Evaluate your method on test data according to evaluation strategy. \n",
    "- Choose two unsupervised learning models, clustering, to train on your dataset. Discuss results. \n",
    "- Choose two unsupervised learning models, dimentionally reduction, and train it your dataset. Now use the same supervised learning models above on reduced dataset. Can you see any differences? Discuss the result. \n",
    "- Use a neural network model on your dataset. Compare the result with other two supervised learning models. Which model performs better? \n",
    "\n",
    "### Deliverables:\n",
    "- Submit IPython notebook. Use markdown to provide an inline comments for this project.\n",
    "- Submit only one notebook. Before submitting, make sure everything runs as expected. To check that, restart the kernel (in the menubar, select Kernel > Restart) and then run all cells (in the menubar, select Cell > Run All).\n",
    "- Visualization expected. \n",
    "\n",
    "### Dataset Description\n",
    "This is an online Merchandise Store customer dataset. Goal is to predict the total transaction revenue. \n",
    "Each row in the dataset is one visit to the store. \n",
    "\n",
    "Data Fields\n",
    "- fullVisitorId- A unique identifier for each user of the Google Merchandise Store.\n",
    "- channelGrouping - The channel via which the user came to the Store.\n",
    "- date - The date on which the user visited the Store.\n",
    "- device - The specifications for the device used to access the Store.\n",
    "- geoNetwork - This section contains information about the geography of the user.\n",
    "- sessionId - A unique identifier for this visit to the store.\n",
    "- socialEngagementType - Engagement type, either \"Socially Engaged\" or \"Not Socially Engaged\".\n",
    "- totals - This section contains aggregate values across the session.\n",
    "- trafficSource - This section contains information about the Traffic Source from which the session originated.\n",
    "- visitId - An identifier for this session. This is part of the value usually stored as the _utmb cookie. This is only unique to the user. For a completely unique ID, you should use a combination of fullVisitorId and visitId.\n",
    "- visitNumber - The session number for this user. If this is the first session, then this is set to 1.\n",
    "- visitStartTime - The timestamp (expressed as POSIX time).\n",
    "- hits - This row and nested fields are populated for any and all types of hits. Provides a record of all page visits.\n",
    "- customDimensions - This section contains any user-level or session-level custom dimensions that are set for a session. This is a repeated field and has an entry for each dimension that is set."
   ]
  },
  {
   "cell_type": "markdown",
   "metadata": {},
   "source": [
    "## Import Packages"
   ]
  },
  {
   "cell_type": "code",
   "execution_count": 1,
   "metadata": {},
   "outputs": [],
   "source": [
    "import numpy as np\n",
    "import pandas as pd\n",
    "%matplotlib inline\n",
    "import matplotlib.pyplot as plt\n",
    "import seaborn as sns; sns.set()"
   ]
  },
  {
   "cell_type": "markdown",
   "metadata": {},
   "source": [
    "## Read Data"
   ]
  },
  {
   "cell_type": "code",
   "execution_count": 2,
   "metadata": {},
   "outputs": [],
   "source": [
    "df = pd.read_csv('data.csv')"
   ]
  },
  {
   "cell_type": "code",
   "execution_count": 3,
   "metadata": {},
   "outputs": [
    {
     "data": {
      "text/plain": [
       "(20000, 22)"
      ]
     },
     "execution_count": 3,
     "metadata": {},
     "output_type": "execute_result"
    }
   ],
   "source": [
    "# how many rows and columns do we have?\n",
    "df.shape"
   ]
  },
  {
   "cell_type": "code",
   "execution_count": 4,
   "metadata": {},
   "outputs": [
    {
     "data": {
      "text/html": [
       "<div>\n",
       "<style scoped>\n",
       "    .dataframe tbody tr th:only-of-type {\n",
       "        vertical-align: middle;\n",
       "    }\n",
       "\n",
       "    .dataframe tbody tr th {\n",
       "        vertical-align: top;\n",
       "    }\n",
       "\n",
       "    .dataframe thead th {\n",
       "        text-align: right;\n",
       "    }\n",
       "</style>\n",
       "<table border=\"1\" class=\"dataframe\">\n",
       "  <thead>\n",
       "    <tr style=\"text-align: right;\">\n",
       "      <th></th>\n",
       "      <th>channelGrouping</th>\n",
       "      <th>customDimensions</th>\n",
       "      <th>date</th>\n",
       "      <th>device</th>\n",
       "      <th>fullVisitorId</th>\n",
       "      <th>geoNetwork</th>\n",
       "      <th>hits</th>\n",
       "      <th>socialEngagementType</th>\n",
       "      <th>trafficSource</th>\n",
       "      <th>visitId</th>\n",
       "      <th>...</th>\n",
       "      <th>totals_bounces</th>\n",
       "      <th>totals_hits</th>\n",
       "      <th>totals_newVisits</th>\n",
       "      <th>totals_pageviews</th>\n",
       "      <th>totals_sessionQualityDim</th>\n",
       "      <th>totals_timeOnSite</th>\n",
       "      <th>totals_totalTransactionRevenue</th>\n",
       "      <th>totals_transactionRevenue</th>\n",
       "      <th>totals_transactions</th>\n",
       "      <th>totals_visits</th>\n",
       "    </tr>\n",
       "  </thead>\n",
       "  <tbody>\n",
       "    <tr>\n",
       "      <th>0</th>\n",
       "      <td>Organic Search</td>\n",
       "      <td>[{'index': '4', 'value': 'EMEA'}]</td>\n",
       "      <td>20171016</td>\n",
       "      <td>{'mobileDeviceInfo': 'not available in demo da...</td>\n",
       "      <td>3162355547410993243</td>\n",
       "      <td>{'cityId': 'not available in demo dataset', 'm...</td>\n",
       "      <td>[{'hitNumber': '1', 'time': '0', 'hour': '17',...</td>\n",
       "      <td>Not Socially Engaged</td>\n",
       "      <td>{'campaign': '(not set)', 'source': 'google', ...</td>\n",
       "      <td>1508198450</td>\n",
       "      <td>...</td>\n",
       "      <td>1.0</td>\n",
       "      <td>1</td>\n",
       "      <td>1.0</td>\n",
       "      <td>1.0</td>\n",
       "      <td>1.0</td>\n",
       "      <td>NaN</td>\n",
       "      <td>NaN</td>\n",
       "      <td>NaN</td>\n",
       "      <td>NaN</td>\n",
       "      <td>1</td>\n",
       "    </tr>\n",
       "    <tr>\n",
       "      <th>1</th>\n",
       "      <td>Referral</td>\n",
       "      <td>[{'index': '4', 'value': 'North America'}]</td>\n",
       "      <td>20171016</td>\n",
       "      <td>{'mobileDeviceInfo': 'not available in demo da...</td>\n",
       "      <td>8934116514970143966</td>\n",
       "      <td>{'cityId': 'not available in demo dataset', 'm...</td>\n",
       "      <td>[{'hitNumber': '1', 'time': '0', 'hour': '10',...</td>\n",
       "      <td>Not Socially Engaged</td>\n",
       "      <td>{'referralPath': '/a/google.com/transportation...</td>\n",
       "      <td>1508176307</td>\n",
       "      <td>...</td>\n",
       "      <td>NaN</td>\n",
       "      <td>2</td>\n",
       "      <td>NaN</td>\n",
       "      <td>2.0</td>\n",
       "      <td>2.0</td>\n",
       "      <td>28.0</td>\n",
       "      <td>NaN</td>\n",
       "      <td>NaN</td>\n",
       "      <td>NaN</td>\n",
       "      <td>1</td>\n",
       "    </tr>\n",
       "    <tr>\n",
       "      <th>2</th>\n",
       "      <td>Direct</td>\n",
       "      <td>[{'index': '4', 'value': 'North America'}]</td>\n",
       "      <td>20171016</td>\n",
       "      <td>{'mobileDeviceInfo': 'not available in demo da...</td>\n",
       "      <td>7992466427990357681</td>\n",
       "      <td>{'cityId': 'not available in demo dataset', 'm...</td>\n",
       "      <td>[{'hitNumber': '1', 'time': '0', 'hour': '17',...</td>\n",
       "      <td>Not Socially Engaged</td>\n",
       "      <td>{'isTrueDirect': True, 'campaign': '(not set)'...</td>\n",
       "      <td>1508201613</td>\n",
       "      <td>...</td>\n",
       "      <td>NaN</td>\n",
       "      <td>2</td>\n",
       "      <td>1.0</td>\n",
       "      <td>2.0</td>\n",
       "      <td>1.0</td>\n",
       "      <td>38.0</td>\n",
       "      <td>NaN</td>\n",
       "      <td>NaN</td>\n",
       "      <td>NaN</td>\n",
       "      <td>1</td>\n",
       "    </tr>\n",
       "    <tr>\n",
       "      <th>3</th>\n",
       "      <td>Organic Search</td>\n",
       "      <td>[{'index': '4', 'value': 'EMEA'}]</td>\n",
       "      <td>20171016</td>\n",
       "      <td>{'mobileDeviceInfo': 'not available in demo da...</td>\n",
       "      <td>9075655783635761930</td>\n",
       "      <td>{'cityId': 'not available in demo dataset', 'm...</td>\n",
       "      <td>[{'hitNumber': '1', 'time': '0', 'hour': '9', ...</td>\n",
       "      <td>Not Socially Engaged</td>\n",
       "      <td>{'campaign': '(not set)', 'source': 'google', ...</td>\n",
       "      <td>1508169851</td>\n",
       "      <td>...</td>\n",
       "      <td>NaN</td>\n",
       "      <td>2</td>\n",
       "      <td>1.0</td>\n",
       "      <td>2.0</td>\n",
       "      <td>1.0</td>\n",
       "      <td>1.0</td>\n",
       "      <td>NaN</td>\n",
       "      <td>NaN</td>\n",
       "      <td>NaN</td>\n",
       "      <td>1</td>\n",
       "    </tr>\n",
       "    <tr>\n",
       "      <th>4</th>\n",
       "      <td>Organic Search</td>\n",
       "      <td>[{'index': '4', 'value': 'Central America'}]</td>\n",
       "      <td>20171016</td>\n",
       "      <td>{'mobileDeviceInfo': 'not available in demo da...</td>\n",
       "      <td>6960673291025684308</td>\n",
       "      <td>{'cityId': 'not available in demo dataset', 'm...</td>\n",
       "      <td>[{'hitNumber': '1', 'time': '0', 'hour': '14',...</td>\n",
       "      <td>Not Socially Engaged</td>\n",
       "      <td>{'campaign': '(not set)', 'source': 'google', ...</td>\n",
       "      <td>1508190552</td>\n",
       "      <td>...</td>\n",
       "      <td>NaN</td>\n",
       "      <td>2</td>\n",
       "      <td>1.0</td>\n",
       "      <td>2.0</td>\n",
       "      <td>1.0</td>\n",
       "      <td>52.0</td>\n",
       "      <td>NaN</td>\n",
       "      <td>NaN</td>\n",
       "      <td>NaN</td>\n",
       "      <td>1</td>\n",
       "    </tr>\n",
       "  </tbody>\n",
       "</table>\n",
       "<p>5 rows × 22 columns</p>\n",
       "</div>"
      ],
      "text/plain": [
       "  channelGrouping                              customDimensions      date  \\\n",
       "0  Organic Search             [{'index': '4', 'value': 'EMEA'}]  20171016   \n",
       "1        Referral    [{'index': '4', 'value': 'North America'}]  20171016   \n",
       "2          Direct    [{'index': '4', 'value': 'North America'}]  20171016   \n",
       "3  Organic Search             [{'index': '4', 'value': 'EMEA'}]  20171016   \n",
       "4  Organic Search  [{'index': '4', 'value': 'Central America'}]  20171016   \n",
       "\n",
       "                                              device        fullVisitorId  \\\n",
       "0  {'mobileDeviceInfo': 'not available in demo da...  3162355547410993243   \n",
       "1  {'mobileDeviceInfo': 'not available in demo da...  8934116514970143966   \n",
       "2  {'mobileDeviceInfo': 'not available in demo da...  7992466427990357681   \n",
       "3  {'mobileDeviceInfo': 'not available in demo da...  9075655783635761930   \n",
       "4  {'mobileDeviceInfo': 'not available in demo da...  6960673291025684308   \n",
       "\n",
       "                                          geoNetwork  \\\n",
       "0  {'cityId': 'not available in demo dataset', 'm...   \n",
       "1  {'cityId': 'not available in demo dataset', 'm...   \n",
       "2  {'cityId': 'not available in demo dataset', 'm...   \n",
       "3  {'cityId': 'not available in demo dataset', 'm...   \n",
       "4  {'cityId': 'not available in demo dataset', 'm...   \n",
       "\n",
       "                                                hits  socialEngagementType  \\\n",
       "0  [{'hitNumber': '1', 'time': '0', 'hour': '17',...  Not Socially Engaged   \n",
       "1  [{'hitNumber': '1', 'time': '0', 'hour': '10',...  Not Socially Engaged   \n",
       "2  [{'hitNumber': '1', 'time': '0', 'hour': '17',...  Not Socially Engaged   \n",
       "3  [{'hitNumber': '1', 'time': '0', 'hour': '9', ...  Not Socially Engaged   \n",
       "4  [{'hitNumber': '1', 'time': '0', 'hour': '14',...  Not Socially Engaged   \n",
       "\n",
       "                                       trafficSource     visitId  \\\n",
       "0  {'campaign': '(not set)', 'source': 'google', ...  1508198450   \n",
       "1  {'referralPath': '/a/google.com/transportation...  1508176307   \n",
       "2  {'isTrueDirect': True, 'campaign': '(not set)'...  1508201613   \n",
       "3  {'campaign': '(not set)', 'source': 'google', ...  1508169851   \n",
       "4  {'campaign': '(not set)', 'source': 'google', ...  1508190552   \n",
       "\n",
       "       ...        totals_bounces  totals_hits  totals_newVisits  \\\n",
       "0      ...                   1.0            1               1.0   \n",
       "1      ...                   NaN            2               NaN   \n",
       "2      ...                   NaN            2               1.0   \n",
       "3      ...                   NaN            2               1.0   \n",
       "4      ...                   NaN            2               1.0   \n",
       "\n",
       "   totals_pageviews  totals_sessionQualityDim  totals_timeOnSite  \\\n",
       "0               1.0                       1.0                NaN   \n",
       "1               2.0                       2.0               28.0   \n",
       "2               2.0                       1.0               38.0   \n",
       "3               2.0                       1.0                1.0   \n",
       "4               2.0                       1.0               52.0   \n",
       "\n",
       "   totals_totalTransactionRevenue  totals_transactionRevenue  \\\n",
       "0                             NaN                        NaN   \n",
       "1                             NaN                        NaN   \n",
       "2                             NaN                        NaN   \n",
       "3                             NaN                        NaN   \n",
       "4                             NaN                        NaN   \n",
       "\n",
       "   totals_transactions  totals_visits  \n",
       "0                  NaN              1  \n",
       "1                  NaN              1  \n",
       "2                  NaN              1  \n",
       "3                  NaN              1  \n",
       "4                  NaN              1  \n",
       "\n",
       "[5 rows x 22 columns]"
      ]
     },
     "execution_count": 4,
     "metadata": {},
     "output_type": "execute_result"
    }
   ],
   "source": [
    "# here's a little information about the data we have\n",
    "df.head()"
   ]
  },
  {
   "cell_type": "code",
   "execution_count": 5,
   "metadata": {},
   "outputs": [
    {
     "name": "stdout",
     "output_type": "stream",
     "text": [
      "<class 'pandas.core.frame.DataFrame'>\n",
      "RangeIndex: 20000 entries, 0 to 19999\n",
      "Data columns (total 22 columns):\n",
      "channelGrouping                   20000 non-null object\n",
      "customDimensions                  20000 non-null object\n",
      "date                              20000 non-null int64\n",
      "device                            20000 non-null object\n",
      "fullVisitorId                     20000 non-null uint64\n",
      "geoNetwork                        20000 non-null object\n",
      "hits                              20000 non-null object\n",
      "socialEngagementType              20000 non-null object\n",
      "trafficSource                     20000 non-null object\n",
      "visitId                           20000 non-null int64\n",
      "visitNumber                       20000 non-null int64\n",
      "visitStartTime                    20000 non-null int64\n",
      "totals_bounces                    9873 non-null float64\n",
      "totals_hits                       20000 non-null int64\n",
      "totals_newVisits                  15088 non-null float64\n",
      "totals_pageviews                  19999 non-null float64\n",
      "totals_sessionQualityDim          9120 non-null float64\n",
      "totals_timeOnSite                 10101 non-null float64\n",
      "totals_totalTransactionRevenue    193 non-null float64\n",
      "totals_transactionRevenue         193 non-null float64\n",
      "totals_transactions               196 non-null float64\n",
      "totals_visits                     20000 non-null int64\n",
      "dtypes: float64(8), int64(6), object(7), uint64(1)\n",
      "memory usage: 3.4+ MB\n"
     ]
    }
   ],
   "source": [
    "df.info()"
   ]
  },
  {
   "cell_type": "code",
   "execution_count": 6,
   "metadata": {},
   "outputs": [
    {
     "data": {
      "text/plain": [
       "19807"
      ]
     },
     "execution_count": 6,
     "metadata": {},
     "output_type": "execute_result"
    }
   ],
   "source": [
    "# How many transaction data do we have?\n",
    "df.totals_totalTransactionRevenue.isna().sum()\n",
    "# we have 19807 NAs and only 193 transaction revenue data, which is a small number of target values"
   ]
  },
  {
   "cell_type": "markdown",
   "metadata": {},
   "source": [
    "## Data Wrangling"
   ]
  },
  {
   "cell_type": "markdown",
   "metadata": {},
   "source": [
    "We have some columns in JSON format, we have to retrieve the columns and put it back into the dataframe.\n",
    "\n",
    "First, I will get an idea of what columns are in each JSON columns and then retrieve the ones we would like to keep."
   ]
  },
  {
   "cell_type": "markdown",
   "metadata": {},
   "source": [
    "We have 5 columns in JSON format:\n",
    "    1.customDimensions;\n",
    "    2.device;\n",
    "    3.geoNetwork;\n",
    "    4.hits;\n",
    "    5.trafficSource;"
   ]
  },
  {
   "cell_type": "markdown",
   "metadata": {},
   "source": [
    "## customDimensions"
   ]
  },
  {
   "cell_type": "code",
   "execution_count": 7,
   "metadata": {},
   "outputs": [
    {
     "data": {
      "text/plain": [
       "\"[{'index': '4', 'value': 'EMEA'}]\""
      ]
     },
     "execution_count": 7,
     "metadata": {},
     "output_type": "execute_result"
    }
   ],
   "source": [
    "df['customDimensions'][0]"
   ]
  },
  {
   "cell_type": "markdown",
   "metadata": {},
   "source": [
    "We will be only taking 'value' out of customDimensions"
   ]
  },
  {
   "cell_type": "code",
   "execution_count": 8,
   "metadata": {},
   "outputs": [],
   "source": [
    "def modify(col):\n",
    "    a = col[1]\n",
    "    if a.find(\"'\") > 0:\n",
    "        return a.split(\"'\")[7]\n",
    "    else:\n",
    "        return 'Not Available'\n",
    "dataset = df.apply(modify,axis = 'columns')\n",
    "df['value'] = dataset"
   ]
  },
  {
   "cell_type": "code",
   "execution_count": 9,
   "metadata": {},
   "outputs": [
    {
     "data": {
      "text/plain": [
       "North America      9288\n",
       "EMEA               3775\n",
       "Not Available      3605\n",
       "APAC               2566\n",
       "South America       468\n",
       "Central America     298\n",
       "Name: value, dtype: int64"
      ]
     },
     "execution_count": 9,
     "metadata": {},
     "output_type": "execute_result"
    }
   ],
   "source": [
    "# here we have a little idea of what values there are in the value column\n",
    "tmp = df['value'].value_counts()\n",
    "tmp"
   ]
  },
  {
   "cell_type": "markdown",
   "metadata": {},
   "source": [
    "Visualization of the counts of the values"
   ]
  },
  {
   "cell_type": "code",
   "execution_count": 10,
   "metadata": {},
   "outputs": [
    {
     "data": {
      "image/png": "[encoded data removed]",
      "text/plain": [
       "<Figure size 432x288 with 1 Axes>"
      ]
     },
     "metadata": {},
     "output_type": "display_data"
    }
   ],
   "source": [
    "ax = tmp.plot.bar(x='value', y='counts', rot=0)"
   ]
  },
  {
   "cell_type": "markdown",
   "metadata": {},
   "source": [
    "North America has much more value counts than other regions"
   ]
  },
  {
   "cell_type": "markdown",
   "metadata": {},
   "source": [
    "## device"
   ]
  },
  {
   "cell_type": "code",
   "execution_count": 11,
   "metadata": {},
   "outputs": [
    {
     "data": {
      "text/plain": [
       "\"{'mobileDeviceInfo': 'not available in demo dataset', 'screenResolution': 'not available in demo dataset', 'browserSize': 'not available in demo dataset', 'deviceCategory': 'desktop', 'mobileDeviceMarketingName': 'not available in demo dataset', 'operatingSystemVersion': 'not available in demo dataset', 'operatingSystem': 'Windows', 'browserVersion': 'not available in demo dataset', 'flashVersion': 'not available in demo dataset', 'mobileInputSelector': 'not available in demo dataset', 'language': 'not available in demo dataset', 'mobileDeviceModel': 'not available in demo dataset', 'browser': 'Firefox', 'isMobile': False, 'screenColors': 'not available in demo dataset', 'mobileDeviceBranding': 'not available in demo dataset'}\""
      ]
     },
     "execution_count": 11,
     "metadata": {},
     "output_type": "execute_result"
    }
   ],
   "source": [
    "df['device'][0]"
   ]
  },
  {
   "cell_type": "markdown",
   "metadata": {},
   "source": [
    "We will be taking out 'deviceCategory', 'operatingSystem', 'browser' from device"
   ]
  },
  {
   "cell_type": "markdown",
   "metadata": {},
   "source": [
    "'deviceCategory'"
   ]
  },
  {
   "cell_type": "code",
   "execution_count": 12,
   "metadata": {},
   "outputs": [
    {
     "data": {
      "text/plain": [
       "desktop    13988\n",
       "mobile      5284\n",
       "tablet       728\n",
       "Name: deviceCategory, dtype: int64"
      ]
     },
     "execution_count": 12,
     "metadata": {},
     "output_type": "execute_result"
    }
   ],
   "source": [
    "def modify(col):\n",
    "    a = col[3]\n",
    "    if a.find(\"'\") > 0:\n",
    "        return a.split(\"'\")[15]\n",
    "    else:\n",
    "        return 'Not Available'\n",
    "dataset = df.apply(modify,axis = 'columns')\n",
    "df['deviceCategory'] = dataset\n",
    "tmp = df['deviceCategory'].value_counts()\n",
    "tmp\n",
    "# We can tell that most of the customers were using a desktop"
   ]
  },
  {
   "cell_type": "code",
   "execution_count": 13,
   "metadata": {},
   "outputs": [
    {
     "data": {
      "image/png": "[encoded data removed]",
      "text/plain": [
       "<Figure size 432x288 with 1 Axes>"
      ]
     },
     "metadata": {},
     "output_type": "display_data"
    }
   ],
   "source": [
    "ax = tmp.plot.bar(x='deviceCategory', y='counts', rot=0)"
   ]
  },
  {
   "cell_type": "markdown",
   "metadata": {},
   "source": [
    "Most of the visits came through desktop, with mobile raking second"
   ]
  },
  {
   "cell_type": "markdown",
   "metadata": {},
   "source": [
    "'operatingSystem'"
   ]
  },
  {
   "cell_type": "code",
   "execution_count": 14,
   "metadata": {},
   "outputs": [
    {
     "data": {
      "text/plain": [
       "Windows             7651\n",
       "Macintosh           4928\n",
       "Android             3205\n",
       "iOS                 2583\n",
       "Linux                812\n",
       "Chrome OS            620\n",
       "(not set)            131\n",
       "Windows Phone         31\n",
       "Tizen                 12\n",
       "Samsung                9\n",
       "Xbox                   5\n",
       "BlackBerry             4\n",
       "OS/2                   4\n",
       "Firefox OS             2\n",
       "Nintendo Wii           2\n",
       "Playstation Vita       1\n",
       "Name: operatingSystem, dtype: int64"
      ]
     },
     "execution_count": 14,
     "metadata": {},
     "output_type": "execute_result"
    }
   ],
   "source": [
    "def modify(col):\n",
    "    a = col[3]\n",
    "    if a.find(\"'\") > 0:\n",
    "        return a.split(\"'\")[27]\n",
    "    else:\n",
    "        return 'Not Available'\n",
    "dataset = df.apply(modify,axis = 'columns')\n",
    "df['operatingSystem'] = dataset\n",
    "tmp = df['operatingSystem'].value_counts()\n",
    "tmp\n",
    "# At the very top, we have Windows as our operating system"
   ]
  },
  {
   "cell_type": "code",
   "execution_count": 15,
   "metadata": {},
   "outputs": [
    {
     "data": {
      "image/png": "[encoded data removed]",
      "text/plain": [
       "<Figure size 432x288 with 1 Axes>"
      ]
     },
     "metadata": {},
     "output_type": "display_data"
    }
   ],
   "source": [
    "ax = tmp.plot.bar(x='operatingSystem', y='counts')"
   ]
  },
  {
   "cell_type": "markdown",
   "metadata": {},
   "source": [
    "Most of the visits were from a Windows operating system, with Macintosh ranking second."
   ]
  },
  {
   "cell_type": "markdown",
   "metadata": {},
   "source": [
    "'browser'"
   ]
  },
  {
   "cell_type": "code",
   "execution_count": 16,
   "metadata": {},
   "outputs": [
    {
     "data": {
      "text/plain": [
       "Chrome                      13978\n",
       "Safari                       3340\n",
       "Firefox                       829\n",
       "Internet Explorer             530\n",
       "Android Webview               300\n",
       "Edge                          267\n",
       "Opera Mini                    191\n",
       "Safari (in-app)               139\n",
       "Samsung Internet              137\n",
       "Opera                         134\n",
       "UC Browser                     48\n",
       "YaBrowser                      36\n",
       "Amazon Silk                    20\n",
       "Coc Coc                        14\n",
       "Android Browser                11\n",
       "Mozilla Compatible Agent        5\n",
       "MRCHROME                        5\n",
       "BlackBerry                      4\n",
       "Puffin                          3\n",
       "Nokia Browser                   2\n",
       "Nintendo Browser                2\n",
       "Maxthon                         2\n",
       "SeaMonkey                       1\n",
       "Playstation Vita Browser        1\n",
       "ADM                             1\n",
       "Name: browser, dtype: int64"
      ]
     },
     "execution_count": 16,
     "metadata": {},
     "output_type": "execute_result"
    }
   ],
   "source": [
    "def modify(col):\n",
    "    a = col[3]\n",
    "    if a.find(\"'\") > 0:\n",
    "        return a.split(\"'\")[51]\n",
    "    else:\n",
    "        return 'Not Available'\n",
    "dataset = df.apply(modify,axis = 'columns')\n",
    "df['browser'] = dataset\n",
    "tmp = df['browser'].value_counts()\n",
    "tmp\n",
    "# Chrome is at the top"
   ]
  },
  {
   "cell_type": "code",
   "execution_count": 17,
   "metadata": {},
   "outputs": [
    {
     "data": {
      "image/png": "[encoded data removed]",
      "text/plain": [
       "<Figure size 432x288 with 1 Axes>"
      ]
     },
     "metadata": {},
     "output_type": "display_data"
    }
   ],
   "source": [
    "ax = tmp.plot.bar(x='browser', y='counts')"
   ]
  },
  {
   "cell_type": "markdown",
   "metadata": {},
   "source": [
    "Most of the visits came through Chrome"
   ]
  },
  {
   "cell_type": "markdown",
   "metadata": {},
   "source": [
    "## geoNetwork"
   ]
  },
  {
   "cell_type": "markdown",
   "metadata": {},
   "source": [
    "We will be only getting 'continent' and 'country' out of geoNetwork"
   ]
  },
  {
   "cell_type": "markdown",
   "metadata": {},
   "source": [
    "'Continent'"
   ]
  },
  {
   "cell_type": "code",
   "execution_count": 18,
   "metadata": {},
   "outputs": [
    {
     "data": {
      "text/plain": [
       "\"{'cityId': 'not available in demo dataset', 'metro': '(not set)', 'subContinent': 'Central America', 'continent': 'Americas', 'region': 'Mexico City', 'city': 'Mexico City', 'networkDomain': 'uninet-ide.com.mx', 'country': 'Mexico', 'networkLocation': 'not available in demo dataset', 'longitude': 'not available in demo dataset', 'latitude': 'not available in demo dataset'}\""
      ]
     },
     "execution_count": 18,
     "metadata": {},
     "output_type": "execute_result"
    }
   ],
   "source": [
    "df['geoNetwork'][8]"
   ]
  },
  {
   "cell_type": "code",
   "execution_count": 19,
   "metadata": {},
   "outputs": [
    {
     "data": {
      "text/plain": [
       "Americas     10521\n",
       "Europe        4511\n",
       "Asia          4253\n",
       "Africa         357\n",
       "Oceania        337\n",
       "(not set)       21\n",
       "Name: continent, dtype: int64"
      ]
     },
     "execution_count": 19,
     "metadata": {},
     "output_type": "execute_result"
    }
   ],
   "source": [
    "def modify(col):\n",
    "    a = col[5]\n",
    "    if a.find(\"'\") > 0:\n",
    "        return a.split(\"'\")[15]\n",
    "    else:\n",
    "        return 'Not Available'\n",
    "dataset = df.apply(modify,axis = 'columns')\n",
    "df['continent'] = dataset\n",
    "tmp = df['continent'].value_counts()\n",
    "tmp\n",
    "# Most of the visits came from the Americas"
   ]
  },
  {
   "cell_type": "code",
   "execution_count": 20,
   "metadata": {},
   "outputs": [
    {
     "data": {
      "image/png": "[encoded data removed]",
      "text/plain": [
       "<Figure size 432x288 with 1 Axes>"
      ]
     },
     "metadata": {},
     "output_type": "display_data"
    }
   ],
   "source": [
    "ax = tmp.plot.bar(x='browser', y='counts', rot = 0)"
   ]
  },
  {
   "cell_type": "markdown",
   "metadata": {},
   "source": [
    "Here we can see that most of the visits came from the Americans, with Europe and Asia placing second and thrid"
   ]
  },
  {
   "cell_type": "markdown",
   "metadata": {},
   "source": [
    " 'country'"
   ]
  },
  {
   "cell_type": "code",
   "execution_count": 21,
   "metadata": {},
   "outputs": [
    {
     "data": {
      "text/plain": [
       "United States     8663\n",
       "India             1081\n",
       "United Kingdom     866\n",
       "Canada             622\n",
       "Japan              488\n",
       "Germany            461\n",
       "France             420\n",
       "Taiwan             411\n",
       "Brazil             336\n",
       "Turkey             303\n",
       "Name: country, dtype: int64"
      ]
     },
     "execution_count": 21,
     "metadata": {},
     "output_type": "execute_result"
    }
   ],
   "source": [
    "def modify(col):\n",
    "    a = col[5]\n",
    "    if a.find(\"'\") > 0:\n",
    "        return a.split(\"'\")[31]\n",
    "    else:\n",
    "        return 'Not Available'\n",
    "dataset = df.apply(modify,axis = 'columns')\n",
    "df['country'] = dataset\n",
    "tmp = df['country'].value_counts().head(10)\n",
    "tmp\n",
    "# Most the visits came from the United States"
   ]
  },
  {
   "cell_type": "code",
   "execution_count": 22,
   "metadata": {},
   "outputs": [
    {
     "data": {
      "image/png": "[encoded data removed]",
      "text/plain": [
       "<Figure size 432x288 with 1 Axes>"
      ]
     },
     "metadata": {},
     "output_type": "display_data"
    }
   ],
   "source": [
    "ax = tmp.plot.bar(x='country', y='counts')"
   ]
  },
  {
   "cell_type": "markdown",
   "metadata": {},
   "source": [
    "If we ranked by country, the US has a significant lead than other countries."
   ]
  },
  {
   "cell_type": "markdown",
   "metadata": {},
   "source": [
    "## Hits"
   ]
  },
  {
   "cell_type": "code",
   "execution_count": 23,
   "metadata": {},
   "outputs": [
    {
     "data": {
      "text/plain": [
       "\"[{'hitNumber': '1', 'time': '0', 'hour': '17', 'minute': '0', 'isInteraction': True, 'isEntrance': True, 'isExit': True, 'referer': 'https://www.google.co.uk/search?q=water+bottle&ie=utf-8&num=100&oe=utf-8&hl=en&gl=GB&uule=w+CAIQIFISCamRx0IRO1oCEXoliDJDoPjE&glp=1&gws_rd=cr&fg=1', 'page': {'pagePath': '/google+redesign/bags/water+bottles+and+tumblers', 'hostname': 'shop.googlemerchandisestore.com', 'pageTitle': 'Water Bottles & Tumblers | Drinkware | Google Merchandise Store', 'pagePathLevel1': '/google+redesign/', 'pagePathLevel2': '/bags/', 'pagePathLevel3': '/water+bottles+and+tumblers', 'pagePathLevel4': ''}, 'transaction': {'currencyCode': 'USD'}, 'item': {'currencyCode': 'USD'}, 'appInfo': {'screenName': 'shop.googlemerchandisestore.com/google+redesign/bags/water+bottles+and+tumblers', 'landingScreenName': 'shop.googlemerchandisestore.com/google+redesign/bags/water+bottles+and+tumblers', 'exitScreenName': 'shop.googlemerchandisestore.com/google+redesign/bags/water+bottles+and+tumblers', 'screenDepth': '0'}, 'exceptionInfo': {'isFatal': True}, 'product': [{'productSKU': 'GGOEGDHC074099', 'v2ProductName': 'Google 17oz Stainless Steel Sport Bottle', 'v2ProductCategory': 'Home/Drinkware/Water Bottles and Tumblers/', 'productVariant': '(not set)', 'productBrand': '(not set)', 'productPrice': '23990000', 'localProductPrice': '23990000', 'isImpression': True, 'customDimensions': [], 'customMetrics': [], 'productListName': 'Category', 'productListPosition': '1'}, {'productSKU': 'GGOEGDHQ015399', 'v2ProductName': '26 oz Double Wall Insulated Bottle', 'v2ProductCategory': 'Home/Drinkware/Water Bottles and Tumblers/', 'productVariant': '(not set)', 'productBrand': '(not set)', 'productPrice': '24990000', 'localProductPrice': '24990000', 'isImpression': True, 'customDimensions': [], 'customMetrics': [], 'productListName': 'Category', 'productListPosition': '2'}, {'productSKU': 'GGOEYDHJ056099', 'v2ProductName': '22 oz YouTube Bottle Infuser', 'v2ProductCategory': 'Home/Drinkware/Water Bottles and Tumblers/', 'productVariant': '(not set)', 'productBrand': '(not set)', 'productPrice': '4990000', 'localProductPrice': '4990000', 'isImpression': True, 'customDimensions': [], 'customMetrics': [], 'productListName': 'Category', 'productListPosition': '3'}, {'productSKU': 'GGOEGAAX0074', 'v2ProductName': 'Google 22 oz Water Bottle', 'v2ProductCategory': 'Home/Drinkware/Water Bottles and Tumblers/', 'productVariant': '(not set)', 'productBrand': '(not set)', 'productPrice': '2990000', 'localProductPrice': '2990000', 'isImpression': True, 'customDimensions': [], 'customMetrics': [], 'productListName': 'Category', 'productListPosition': '4'}], 'promotion': [], 'eCommerceAction': {'action_type': '0', 'step': '1'}, 'experiment': [], 'customVariables': [], 'customDimensions': [], 'customMetrics': [], 'type': 'PAGE', 'social': {'socialNetwork': '(not set)', 'hasSocialSourceReferral': 'No', 'socialInteractionNetworkAction': ' : '}, 'contentGroup': {'contentGroup1': '(not set)', 'contentGroup2': 'Bags', 'contentGroup3': '(not set)', 'contentGroup4': '(not set)', 'contentGroup5': '(not set)', 'previousContentGroup1': '(entrance)', 'previousContentGroup2': '(entrance)', 'previousContentGroup3': '(entrance)', 'previousContentGroup4': '(entrance)', 'previousContentGroup5': '(entrance)', 'contentGroupUniqueViews2': '1'}, 'dataSource': 'web', 'publisher_infos': []}]\""
      ]
     },
     "execution_count": 23,
     "metadata": {},
     "output_type": "execute_result"
    }
   ],
   "source": [
    "df['hits'][0]"
   ]
  },
  {
   "cell_type": "markdown",
   "metadata": {},
   "source": [
    "We are only going to retrieve hitNumber from hits"
   ]
  },
  {
   "cell_type": "code",
   "execution_count": 24,
   "metadata": {},
   "outputs": [
    {
     "data": {
      "text/plain": [
       "1     19917\n",
       "2        57\n",
       "3         7\n",
       "0         6\n",
       "6         2\n",
       "5         2\n",
       "7         2\n",
       "10        1\n",
       "32        1\n",
       "13        1\n",
       "9         1\n",
       "16        1\n",
       "8         1\n",
       "20        1\n",
       "Name: hitNumber, dtype: int64"
      ]
     },
     "execution_count": 24,
     "metadata": {},
     "output_type": "execute_result"
    }
   ],
   "source": [
    "def modify(col):\n",
    "    a = col[6]\n",
    "    if a.find(\"'\") > 0:\n",
    "        return a.split(\"'\")[3]\n",
    "    else:\n",
    "        return 0\n",
    "dataset = df.apply(modify,axis = 'columns')\n",
    "df['hitNumber'] = dataset\n",
    "tmp = df['hitNumber'].value_counts()\n",
    "tmp"
   ]
  },
  {
   "cell_type": "code",
   "execution_count": 25,
   "metadata": {},
   "outputs": [
    {
     "data": {
      "image/png": "[encoded data removed]",
      "text/plain": [
       "<Figure size 432x288 with 1 Axes>"
      ]
     },
     "metadata": {},
     "output_type": "display_data"
    }
   ],
   "source": [
    "ax = tmp.plot.bar(x='hitnumber', y='counts')"
   ]
  },
  {
   "cell_type": "markdown",
   "metadata": {},
   "source": [
    "We can see that there was mostly 1 hit."
   ]
  },
  {
   "cell_type": "markdown",
   "metadata": {},
   "source": [
    "## trafficSource\n",
    "We will get the first column for traffic source to see if campaign, referral, or direct have any influence on total transactional revenue."
   ]
  },
  {
   "cell_type": "code",
   "execution_count": 26,
   "metadata": {},
   "outputs": [
    {
     "data": {
      "text/plain": [
       "\"{'campaign': '(not set)', 'source': 'google', 'adwordsClickInfo': {'criteriaParameters': 'not available in demo dataset'}, 'medium': 'organic', 'keyword': '(not provided)'}\""
      ]
     },
     "execution_count": 26,
     "metadata": {},
     "output_type": "execute_result"
    }
   ],
   "source": [
    "df['trafficSource'][17]"
   ]
  },
  {
   "cell_type": "code",
   "execution_count": 27,
   "metadata": {},
   "outputs": [
    {
     "data": {
      "text/plain": [
       "campaign        8841\n",
       "referralPath    6104\n",
       "isTrueDirect    5055\n",
       "Name: source, dtype: int64"
      ]
     },
     "execution_count": 27,
     "metadata": {},
     "output_type": "execute_result"
    }
   ],
   "source": [
    "def modify(col):\n",
    "    a = col[8]\n",
    "    if a.find(\"'\") > 0:\n",
    "        return a.split(\"'\")[1]\n",
    "    else:\n",
    "        return 0\n",
    "dataset = df.apply(modify,axis = 'columns')\n",
    "df['source'] = dataset\n",
    "tmp = df['source'].value_counts()\n",
    "tmp"
   ]
  },
  {
   "cell_type": "code",
   "execution_count": 28,
   "metadata": {},
   "outputs": [
    {
     "data": {
      "image/png": "[encoded data removed]",
      "text/plain": [
       "<Figure size 432x288 with 1 Axes>"
      ]
     },
     "metadata": {},
     "output_type": "display_data"
    }
   ],
   "source": [
    "ax = tmp.plot.bar(x='trafficsource', y='counts')"
   ]
  },
  {
   "cell_type": "markdown",
   "metadata": {},
   "source": [
    "Most of our visits came through campaign, with referral in second place and direct in the last."
   ]
  },
  {
   "cell_type": "markdown",
   "metadata": {},
   "source": [
    "Let's take a look at our dataset now"
   ]
  },
  {
   "cell_type": "code",
   "execution_count": 29,
   "metadata": {},
   "outputs": [
    {
     "name": "stdout",
     "output_type": "stream",
     "text": [
      "<class 'pandas.core.frame.DataFrame'>\n",
      "RangeIndex: 20000 entries, 0 to 19999\n",
      "Data columns (total 30 columns):\n",
      "channelGrouping                   20000 non-null object\n",
      "customDimensions                  20000 non-null object\n",
      "date                              20000 non-null int64\n",
      "device                            20000 non-null object\n",
      "fullVisitorId                     20000 non-null uint64\n",
      "geoNetwork                        20000 non-null object\n",
      "hits                              20000 non-null object\n",
      "socialEngagementType              20000 non-null object\n",
      "trafficSource                     20000 non-null object\n",
      "visitId                           20000 non-null int64\n",
      "visitNumber                       20000 non-null int64\n",
      "visitStartTime                    20000 non-null int64\n",
      "totals_bounces                    9873 non-null float64\n",
      "totals_hits                       20000 non-null int64\n",
      "totals_newVisits                  15088 non-null float64\n",
      "totals_pageviews                  19999 non-null float64\n",
      "totals_sessionQualityDim          9120 non-null float64\n",
      "totals_timeOnSite                 10101 non-null float64\n",
      "totals_totalTransactionRevenue    193 non-null float64\n",
      "totals_transactionRevenue         193 non-null float64\n",
      "totals_transactions               196 non-null float64\n",
      "totals_visits                     20000 non-null int64\n",
      "value                             20000 non-null object\n",
      "deviceCategory                    20000 non-null object\n",
      "operatingSystem                   20000 non-null object\n",
      "browser                           20000 non-null object\n",
      "continent                         20000 non-null object\n",
      "country                           20000 non-null object\n",
      "hitNumber                         20000 non-null object\n",
      "source                            20000 non-null object\n",
      "dtypes: float64(8), int64(6), object(15), uint64(1)\n",
      "memory usage: 4.6+ MB\n"
     ]
    }
   ],
   "source": [
    "df.info()"
   ]
  },
  {
   "cell_type": "markdown",
   "metadata": {},
   "source": [
    "After we drop the JSON style columns and columns we would not use in our training datasets, we take a look at what our data looks like"
   ]
  },
  {
   "cell_type": "code",
   "execution_count": 30,
   "metadata": {},
   "outputs": [
    {
     "data": {
      "text/html": [
       "<div>\n",
       "<style scoped>\n",
       "    .dataframe tbody tr th:only-of-type {\n",
       "        vertical-align: middle;\n",
       "    }\n",
       "\n",
       "    .dataframe tbody tr th {\n",
       "        vertical-align: top;\n",
       "    }\n",
       "\n",
       "    .dataframe thead th {\n",
       "        text-align: right;\n",
       "    }\n",
       "</style>\n",
       "<table border=\"1\" class=\"dataframe\">\n",
       "  <thead>\n",
       "    <tr style=\"text-align: right;\">\n",
       "      <th></th>\n",
       "      <th>channelGrouping</th>\n",
       "      <th>visitNumber</th>\n",
       "      <th>totals_bounces</th>\n",
       "      <th>totals_hits</th>\n",
       "      <th>totals_newVisits</th>\n",
       "      <th>totals_pageviews</th>\n",
       "      <th>totals_sessionQualityDim</th>\n",
       "      <th>totals_timeOnSite</th>\n",
       "      <th>totals_totalTransactionRevenue</th>\n",
       "      <th>totals_transactionRevenue</th>\n",
       "      <th>totals_transactions</th>\n",
       "      <th>totals_visits</th>\n",
       "      <th>value</th>\n",
       "      <th>deviceCategory</th>\n",
       "      <th>operatingSystem</th>\n",
       "      <th>browser</th>\n",
       "      <th>continent</th>\n",
       "      <th>country</th>\n",
       "      <th>hitNumber</th>\n",
       "      <th>source</th>\n",
       "    </tr>\n",
       "  </thead>\n",
       "  <tbody>\n",
       "    <tr>\n",
       "      <th>0</th>\n",
       "      <td>Organic Search</td>\n",
       "      <td>1</td>\n",
       "      <td>1.0</td>\n",
       "      <td>1</td>\n",
       "      <td>1.0</td>\n",
       "      <td>1.0</td>\n",
       "      <td>1.0</td>\n",
       "      <td>NaN</td>\n",
       "      <td>NaN</td>\n",
       "      <td>NaN</td>\n",
       "      <td>NaN</td>\n",
       "      <td>1</td>\n",
       "      <td>EMEA</td>\n",
       "      <td>desktop</td>\n",
       "      <td>Windows</td>\n",
       "      <td>Firefox</td>\n",
       "      <td>Europe</td>\n",
       "      <td>Germany</td>\n",
       "      <td>1</td>\n",
       "      <td>campaign</td>\n",
       "    </tr>\n",
       "    <tr>\n",
       "      <th>1</th>\n",
       "      <td>Referral</td>\n",
       "      <td>6</td>\n",
       "      <td>NaN</td>\n",
       "      <td>2</td>\n",
       "      <td>NaN</td>\n",
       "      <td>2.0</td>\n",
       "      <td>2.0</td>\n",
       "      <td>28.0</td>\n",
       "      <td>NaN</td>\n",
       "      <td>NaN</td>\n",
       "      <td>NaN</td>\n",
       "      <td>1</td>\n",
       "      <td>North America</td>\n",
       "      <td>desktop</td>\n",
       "      <td>Chrome OS</td>\n",
       "      <td>Chrome</td>\n",
       "      <td>Americas</td>\n",
       "      <td>United States</td>\n",
       "      <td>1</td>\n",
       "      <td>referralPath</td>\n",
       "    </tr>\n",
       "    <tr>\n",
       "      <th>2</th>\n",
       "      <td>Direct</td>\n",
       "      <td>1</td>\n",
       "      <td>NaN</td>\n",
       "      <td>2</td>\n",
       "      <td>1.0</td>\n",
       "      <td>2.0</td>\n",
       "      <td>1.0</td>\n",
       "      <td>38.0</td>\n",
       "      <td>NaN</td>\n",
       "      <td>NaN</td>\n",
       "      <td>NaN</td>\n",
       "      <td>1</td>\n",
       "      <td>North America</td>\n",
       "      <td>mobile</td>\n",
       "      <td>Android</td>\n",
       "      <td>Chrome</td>\n",
       "      <td>Americas</td>\n",
       "      <td>United States</td>\n",
       "      <td>1</td>\n",
       "      <td>isTrueDirect</td>\n",
       "    </tr>\n",
       "    <tr>\n",
       "      <th>3</th>\n",
       "      <td>Organic Search</td>\n",
       "      <td>1</td>\n",
       "      <td>NaN</td>\n",
       "      <td>2</td>\n",
       "      <td>1.0</td>\n",
       "      <td>2.0</td>\n",
       "      <td>1.0</td>\n",
       "      <td>1.0</td>\n",
       "      <td>NaN</td>\n",
       "      <td>NaN</td>\n",
       "      <td>NaN</td>\n",
       "      <td>1</td>\n",
       "      <td>EMEA</td>\n",
       "      <td>desktop</td>\n",
       "      <td>Windows</td>\n",
       "      <td>Chrome</td>\n",
       "      <td>Asia</td>\n",
       "      <td>Turkey</td>\n",
       "      <td>1</td>\n",
       "      <td>campaign</td>\n",
       "    </tr>\n",
       "    <tr>\n",
       "      <th>4</th>\n",
       "      <td>Organic Search</td>\n",
       "      <td>1</td>\n",
       "      <td>NaN</td>\n",
       "      <td>2</td>\n",
       "      <td>1.0</td>\n",
       "      <td>2.0</td>\n",
       "      <td>1.0</td>\n",
       "      <td>52.0</td>\n",
       "      <td>NaN</td>\n",
       "      <td>NaN</td>\n",
       "      <td>NaN</td>\n",
       "      <td>1</td>\n",
       "      <td>Central America</td>\n",
       "      <td>desktop</td>\n",
       "      <td>Windows</td>\n",
       "      <td>Chrome</td>\n",
       "      <td>Americas</td>\n",
       "      <td>Mexico</td>\n",
       "      <td>1</td>\n",
       "      <td>campaign</td>\n",
       "    </tr>\n",
       "  </tbody>\n",
       "</table>\n",
       "</div>"
      ],
      "text/plain": [
       "  channelGrouping  visitNumber  totals_bounces  totals_hits  totals_newVisits  \\\n",
       "0  Organic Search            1             1.0            1               1.0   \n",
       "1        Referral            6             NaN            2               NaN   \n",
       "2          Direct            1             NaN            2               1.0   \n",
       "3  Organic Search            1             NaN            2               1.0   \n",
       "4  Organic Search            1             NaN            2               1.0   \n",
       "\n",
       "   totals_pageviews  totals_sessionQualityDim  totals_timeOnSite  \\\n",
       "0               1.0                       1.0                NaN   \n",
       "1               2.0                       2.0               28.0   \n",
       "2               2.0                       1.0               38.0   \n",
       "3               2.0                       1.0                1.0   \n",
       "4               2.0                       1.0               52.0   \n",
       "\n",
       "   totals_totalTransactionRevenue  totals_transactionRevenue  \\\n",
       "0                             NaN                        NaN   \n",
       "1                             NaN                        NaN   \n",
       "2                             NaN                        NaN   \n",
       "3                             NaN                        NaN   \n",
       "4                             NaN                        NaN   \n",
       "\n",
       "   totals_transactions  totals_visits            value deviceCategory  \\\n",
       "0                  NaN              1             EMEA        desktop   \n",
       "1                  NaN              1    North America        desktop   \n",
       "2                  NaN              1    North America         mobile   \n",
       "3                  NaN              1             EMEA        desktop   \n",
       "4                  NaN              1  Central America        desktop   \n",
       "\n",
       "  operatingSystem  browser continent        country hitNumber        source  \n",
       "0         Windows  Firefox    Europe        Germany         1      campaign  \n",
       "1       Chrome OS   Chrome  Americas  United States         1  referralPath  \n",
       "2         Android   Chrome  Americas  United States         1  isTrueDirect  \n",
       "3         Windows   Chrome      Asia         Turkey         1      campaign  \n",
       "4         Windows   Chrome  Americas         Mexico         1      campaign  "
      ]
     },
     "execution_count": 30,
     "metadata": {},
     "output_type": "execute_result"
    }
   ],
   "source": [
    "df = df.drop(columns = ['customDimensions','device', 'geoNetwork','hits','trafficSource','date','fullVisitorId','visitId','visitStartTime','socialEngagementType'])\n",
    "df.head()"
   ]
  },
  {
   "cell_type": "code",
   "execution_count": 31,
   "metadata": {},
   "outputs": [
    {
     "name": "stdout",
     "output_type": "stream",
     "text": [
      "<class 'pandas.core.frame.DataFrame'>\n",
      "RangeIndex: 20000 entries, 0 to 19999\n",
      "Data columns (total 20 columns):\n",
      "channelGrouping                   20000 non-null object\n",
      "visitNumber                       20000 non-null int64\n",
      "totals_bounces                    9873 non-null float64\n",
      "totals_hits                       20000 non-null int64\n",
      "totals_newVisits                  15088 non-null float64\n",
      "totals_pageviews                  19999 non-null float64\n",
      "totals_sessionQualityDim          9120 non-null float64\n",
      "totals_timeOnSite                 10101 non-null float64\n",
      "totals_totalTransactionRevenue    193 non-null float64\n",
      "totals_transactionRevenue         193 non-null float64\n",
      "totals_transactions               196 non-null float64\n",
      "totals_visits                     20000 non-null int64\n",
      "value                             20000 non-null object\n",
      "deviceCategory                    20000 non-null object\n",
      "operatingSystem                   20000 non-null object\n",
      "browser                           20000 non-null object\n",
      "continent                         20000 non-null object\n",
      "country                           20000 non-null object\n",
      "hitNumber                         20000 non-null object\n",
      "source                            20000 non-null object\n",
      "dtypes: float64(8), int64(3), object(9)\n",
      "memory usage: 3.1+ MB\n"
     ]
    }
   ],
   "source": [
    "df.info()"
   ]
  },
  {
   "cell_type": "markdown",
   "metadata": {},
   "source": [
    "## Feature Engineering"
   ]
  },
  {
   "cell_type": "markdown",
   "metadata": {},
   "source": [
    "We can only use numerical features for machine learning, so we have to change all the object and units into int or float"
   ]
  },
  {
   "cell_type": "markdown",
   "metadata": {},
   "source": [
    "### channelGrouping"
   ]
  },
  {
   "cell_type": "code",
   "execution_count": 32,
   "metadata": {},
   "outputs": [
    {
     "data": {
      "text/plain": [
       "Organic Search    9535\n",
       "Social            3455\n",
       "Direct            3047\n",
       "Referral          2649\n",
       "Paid Search        527\n",
       "Affiliates         425\n",
       "Display            362\n",
       "Name: channelGrouping, dtype: int64"
      ]
     },
     "execution_count": 32,
     "metadata": {},
     "output_type": "execute_result"
    }
   ],
   "source": [
    "tmp = df['channelGrouping'].value_counts()\n",
    "tmp"
   ]
  },
  {
   "cell_type": "code",
   "execution_count": 33,
   "metadata": {},
   "outputs": [
    {
     "data": {
      "image/png": "[encoded data removed]",
      "text/plain": [
       "<Figure size 360x360 with 1 Axes>"
      ]
     },
     "metadata": {},
     "output_type": "display_data"
    }
   ],
   "source": [
    "plot = tmp.plot.pie( figsize=(5, 5))"
   ]
  },
  {
   "cell_type": "markdown",
   "metadata": {},
   "source": [
    "Most of the traffic came through organic search."
   ]
  },
  {
   "cell_type": "markdown",
   "metadata": {},
   "source": [
    "We will start to create dummies and changing the types of the dummies to int. We can see which channel that came to our website which generated the most total transaction revenue."
   ]
  },
  {
   "cell_type": "code",
   "execution_count": 34,
   "metadata": {},
   "outputs": [],
   "source": [
    "cg_dummies = pd.get_dummies(df.channelGrouping, prefix = 'channelGrouping')\n",
    "cg_dummies = cg_dummies.astype(int)\n",
    "df = pd.concat([df, cg_dummies], axis = 1)"
   ]
  },
  {
   "cell_type": "markdown",
   "metadata": {},
   "source": [
    "We have created some dummies for the channelGrouping columns, take a look."
   ]
  },
  {
   "cell_type": "code",
   "execution_count": 35,
   "metadata": {},
   "outputs": [
    {
     "name": "stdout",
     "output_type": "stream",
     "text": [
      "<class 'pandas.core.frame.DataFrame'>\n",
      "RangeIndex: 20000 entries, 0 to 19999\n",
      "Data columns (total 27 columns):\n",
      "channelGrouping                   20000 non-null object\n",
      "visitNumber                       20000 non-null int64\n",
      "totals_bounces                    9873 non-null float64\n",
      "totals_hits                       20000 non-null int64\n",
      "totals_newVisits                  15088 non-null float64\n",
      "totals_pageviews                  19999 non-null float64\n",
      "totals_sessionQualityDim          9120 non-null float64\n",
      "totals_timeOnSite                 10101 non-null float64\n",
      "totals_totalTransactionRevenue    193 non-null float64\n",
      "totals_transactionRevenue         193 non-null float64\n",
      "totals_transactions               196 non-null float64\n",
      "totals_visits                     20000 non-null int64\n",
      "value                             20000 non-null object\n",
      "deviceCategory                    20000 non-null object\n",
      "operatingSystem                   20000 non-null object\n",
      "browser                           20000 non-null object\n",
      "continent                         20000 non-null object\n",
      "country                           20000 non-null object\n",
      "hitNumber                         20000 non-null object\n",
      "source                            20000 non-null object\n",
      "channelGrouping_Affiliates        20000 non-null int32\n",
      "channelGrouping_Direct            20000 non-null int32\n",
      "channelGrouping_Display           20000 non-null int32\n",
      "channelGrouping_Organic Search    20000 non-null int32\n",
      "channelGrouping_Paid Search       20000 non-null int32\n",
      "channelGrouping_Referral          20000 non-null int32\n",
      "channelGrouping_Social            20000 non-null int32\n",
      "dtypes: float64(8), int32(7), int64(3), object(9)\n",
      "memory usage: 3.6+ MB\n"
     ]
    }
   ],
   "source": [
    "df.info()"
   ]
  },
  {
   "cell_type": "markdown",
   "metadata": {},
   "source": [
    "### deviceCategory"
   ]
  },
  {
   "cell_type": "code",
   "execution_count": 36,
   "metadata": {},
   "outputs": [
    {
     "data": {
      "text/plain": [
       "desktop    13988\n",
       "mobile      5284\n",
       "tablet       728\n",
       "Name: deviceCategory, dtype: int64"
      ]
     },
     "execution_count": 36,
     "metadata": {},
     "output_type": "execute_result"
    }
   ],
   "source": [
    "df['deviceCategory'].value_counts()"
   ]
  },
  {
   "cell_type": "markdown",
   "metadata": {},
   "source": [
    "Seems like we have three categories for device. We can see that which device in the three is attributing the total transaction revenue the most."
   ]
  },
  {
   "cell_type": "markdown",
   "metadata": {},
   "source": [
    "Get dummies for device categories and change data type."
   ]
  },
  {
   "cell_type": "code",
   "execution_count": 37,
   "metadata": {},
   "outputs": [],
   "source": [
    "dc_dummies = pd.get_dummies(df.deviceCategory, prefix = 'deviceCategory')\n",
    "dc_dummies = dc_dummies.astype(int)\n",
    "df = pd.concat([df, dc_dummies], axis = 1)\n",
    "df = df.drop(columns = ['deviceCategory'])"
   ]
  },
  {
   "cell_type": "markdown",
   "metadata": {},
   "source": [
    "We have created some dummies for the deviceCategory column, take a look."
   ]
  },
  {
   "cell_type": "code",
   "execution_count": 38,
   "metadata": {},
   "outputs": [
    {
     "name": "stdout",
     "output_type": "stream",
     "text": [
      "<class 'pandas.core.frame.DataFrame'>\n",
      "RangeIndex: 20000 entries, 0 to 19999\n",
      "Data columns (total 29 columns):\n",
      "channelGrouping                   20000 non-null object\n",
      "visitNumber                       20000 non-null int64\n",
      "totals_bounces                    9873 non-null float64\n",
      "totals_hits                       20000 non-null int64\n",
      "totals_newVisits                  15088 non-null float64\n",
      "totals_pageviews                  19999 non-null float64\n",
      "totals_sessionQualityDim          9120 non-null float64\n",
      "totals_timeOnSite                 10101 non-null float64\n",
      "totals_totalTransactionRevenue    193 non-null float64\n",
      "totals_transactionRevenue         193 non-null float64\n",
      "totals_transactions               196 non-null float64\n",
      "totals_visits                     20000 non-null int64\n",
      "value                             20000 non-null object\n",
      "operatingSystem                   20000 non-null object\n",
      "browser                           20000 non-null object\n",
      "continent                         20000 non-null object\n",
      "country                           20000 non-null object\n",
      "hitNumber                         20000 non-null object\n",
      "source                            20000 non-null object\n",
      "channelGrouping_Affiliates        20000 non-null int32\n",
      "channelGrouping_Direct            20000 non-null int32\n",
      "channelGrouping_Display           20000 non-null int32\n",
      "channelGrouping_Organic Search    20000 non-null int32\n",
      "channelGrouping_Paid Search       20000 non-null int32\n",
      "channelGrouping_Referral          20000 non-null int32\n",
      "channelGrouping_Social            20000 non-null int32\n",
      "deviceCategory_desktop            20000 non-null int32\n",
      "deviceCategory_mobile             20000 non-null int32\n",
      "deviceCategory_tablet             20000 non-null int32\n",
      "dtypes: float64(8), int32(10), int64(3), object(8)\n",
      "memory usage: 3.7+ MB\n"
     ]
    }
   ],
   "source": [
    "df.info()"
   ]
  },
  {
   "cell_type": "markdown",
   "metadata": {},
   "source": [
    "### continent"
   ]
  },
  {
   "cell_type": "code",
   "execution_count": 39,
   "metadata": {},
   "outputs": [
    {
     "data": {
      "text/plain": [
       "Americas     10521\n",
       "Europe        4511\n",
       "Asia          4253\n",
       "Africa         357\n",
       "Oceania        337\n",
       "(not set)       21\n",
       "Name: continent, dtype: int64"
      ]
     },
     "execution_count": 39,
     "metadata": {},
     "output_type": "execute_result"
    }
   ],
   "source": [
    "df['continent'].value_counts()"
   ]
  },
  {
   "cell_type": "markdown",
   "metadata": {},
   "source": [
    "We have 5 categories for continent, we will then create dummies for all of them. We can see how people from different continents are contributing to our total transaction revenue."
   ]
  },
  {
   "cell_type": "code",
   "execution_count": 40,
   "metadata": {},
   "outputs": [
    {
     "name": "stdout",
     "output_type": "stream",
     "text": [
      "<class 'pandas.core.frame.DataFrame'>\n",
      "RangeIndex: 20000 entries, 0 to 19999\n",
      "Data columns (total 34 columns):\n",
      "channelGrouping                   20000 non-null object\n",
      "visitNumber                       20000 non-null int64\n",
      "totals_bounces                    9873 non-null float64\n",
      "totals_hits                       20000 non-null int64\n",
      "totals_newVisits                  15088 non-null float64\n",
      "totals_pageviews                  19999 non-null float64\n",
      "totals_sessionQualityDim          9120 non-null float64\n",
      "totals_timeOnSite                 10101 non-null float64\n",
      "totals_totalTransactionRevenue    193 non-null float64\n",
      "totals_transactionRevenue         193 non-null float64\n",
      "totals_transactions               196 non-null float64\n",
      "totals_visits                     20000 non-null int64\n",
      "value                             20000 non-null object\n",
      "operatingSystem                   20000 non-null object\n",
      "browser                           20000 non-null object\n",
      "country                           20000 non-null object\n",
      "hitNumber                         20000 non-null object\n",
      "source                            20000 non-null object\n",
      "channelGrouping_Affiliates        20000 non-null int32\n",
      "channelGrouping_Direct            20000 non-null int32\n",
      "channelGrouping_Display           20000 non-null int32\n",
      "channelGrouping_Organic Search    20000 non-null int32\n",
      "channelGrouping_Paid Search       20000 non-null int32\n",
      "channelGrouping_Referral          20000 non-null int32\n",
      "channelGrouping_Social            20000 non-null int32\n",
      "deviceCategory_desktop            20000 non-null int32\n",
      "deviceCategory_mobile             20000 non-null int32\n",
      "deviceCategory_tablet             20000 non-null int32\n",
      "continent_(not set)               20000 non-null int32\n",
      "continent_Africa                  20000 non-null int32\n",
      "continent_Americas                20000 non-null int32\n",
      "continent_Asia                    20000 non-null int32\n",
      "continent_Europe                  20000 non-null int32\n",
      "continent_Oceania                 20000 non-null int32\n",
      "dtypes: float64(8), int32(16), int64(3), object(7)\n",
      "memory usage: 4.0+ MB\n"
     ]
    }
   ],
   "source": [
    "c_dummies = pd.get_dummies(df.continent, prefix = 'continent')\n",
    "c_dummies = c_dummies.astype(int)\n",
    "df = pd.concat([df, c_dummies], axis = 1)\n",
    "df = df.drop(columns = ['continent'])\n",
    "df.info()"
   ]
  },
  {
   "cell_type": "markdown",
   "metadata": {},
   "source": [
    "### operatingSystem"
   ]
  },
  {
   "cell_type": "code",
   "execution_count": 41,
   "metadata": {},
   "outputs": [
    {
     "data": {
      "text/plain": [
       "Windows             7651\n",
       "Macintosh           4928\n",
       "Android             3205\n",
       "iOS                 2583\n",
       "Linux                812\n",
       "Chrome OS            620\n",
       "(not set)            131\n",
       "Windows Phone         31\n",
       "Tizen                 12\n",
       "Samsung                9\n",
       "Xbox                   5\n",
       "BlackBerry             4\n",
       "OS/2                   4\n",
       "Firefox OS             2\n",
       "Nintendo Wii           2\n",
       "Playstation Vita       1\n",
       "Name: operatingSystem, dtype: int64"
      ]
     },
     "execution_count": 41,
     "metadata": {},
     "output_type": "execute_result"
    }
   ],
   "source": [
    "df['operatingSystem'].value_counts()"
   ]
  },
  {
   "cell_type": "markdown",
   "metadata": {},
   "source": [
    "We have quite a few categories for operating system, I would like to keep the top 6. We will create dummy variables for them. We can test that if operating systems have any influence on the total transaction revenue."
   ]
  },
  {
   "cell_type": "code",
   "execution_count": 42,
   "metadata": {},
   "outputs": [
    {
     "name": "stdout",
     "output_type": "stream",
     "text": [
      "<class 'pandas.core.frame.DataFrame'>\n",
      "RangeIndex: 20000 entries, 0 to 19999\n",
      "Data columns (total 49 columns):\n",
      "channelGrouping                     20000 non-null object\n",
      "visitNumber                         20000 non-null int64\n",
      "totals_bounces                      9873 non-null float64\n",
      "totals_hits                         20000 non-null int64\n",
      "totals_newVisits                    15088 non-null float64\n",
      "totals_pageviews                    19999 non-null float64\n",
      "totals_sessionQualityDim            9120 non-null float64\n",
      "totals_timeOnSite                   10101 non-null float64\n",
      "totals_totalTransactionRevenue      193 non-null float64\n",
      "totals_transactionRevenue           193 non-null float64\n",
      "totals_transactions                 196 non-null float64\n",
      "totals_visits                       20000 non-null int64\n",
      "value                               20000 non-null object\n",
      "browser                             20000 non-null object\n",
      "country                             20000 non-null object\n",
      "hitNumber                           20000 non-null object\n",
      "source                              20000 non-null object\n",
      "channelGrouping_Affiliates          20000 non-null int32\n",
      "channelGrouping_Direct              20000 non-null int32\n",
      "channelGrouping_Display             20000 non-null int32\n",
      "channelGrouping_Organic Search      20000 non-null int32\n",
      "channelGrouping_Paid Search         20000 non-null int32\n",
      "channelGrouping_Referral            20000 non-null int32\n",
      "channelGrouping_Social              20000 non-null int32\n",
      "deviceCategory_desktop              20000 non-null int32\n",
      "deviceCategory_mobile               20000 non-null int32\n",
      "deviceCategory_tablet               20000 non-null int32\n",
      "continent_(not set)                 20000 non-null int32\n",
      "continent_Africa                    20000 non-null int32\n",
      "continent_Americas                  20000 non-null int32\n",
      "continent_Asia                      20000 non-null int32\n",
      "continent_Europe                    20000 non-null int32\n",
      "continent_Oceania                   20000 non-null int32\n",
      "operatingSystem_(not set)           20000 non-null int32\n",
      "operatingSystem_Android             20000 non-null int32\n",
      "operatingSystem_BlackBerry          20000 non-null int32\n",
      "operatingSystem_Chrome OS           20000 non-null int32\n",
      "operatingSystem_Firefox OS          20000 non-null int32\n",
      "operatingSystem_Linux               20000 non-null int32\n",
      "operatingSystem_Macintosh           20000 non-null int32\n",
      "operatingSystem_Nintendo Wii        20000 non-null int32\n",
      "operatingSystem_OS/2                20000 non-null int32\n",
      "operatingSystem_Playstation Vita    20000 non-null int32\n",
      "operatingSystem_Samsung             20000 non-null int32\n",
      "operatingSystem_Tizen               20000 non-null int32\n",
      "operatingSystem_Windows             20000 non-null int32\n",
      "operatingSystem_Windows Phone       20000 non-null int32\n",
      "operatingSystem_Xbox                20000 non-null int32\n",
      "operatingSystem_iOS                 20000 non-null int32\n",
      "dtypes: float64(8), int32(32), int64(3), object(6)\n",
      "memory usage: 5.0+ MB\n"
     ]
    }
   ],
   "source": [
    "os_dummies = pd.get_dummies(df.operatingSystem, prefix = 'operatingSystem')\n",
    "os_dummies = os_dummies.astype(int)\n",
    "df = pd.concat([df, os_dummies], axis = 1)\n",
    "df = df.drop(columns = ['operatingSystem'])\n",
    "df.info()"
   ]
  },
  {
   "cell_type": "markdown",
   "metadata": {},
   "source": [
    "### browser"
   ]
  },
  {
   "cell_type": "markdown",
   "metadata": {},
   "source": [
    "We have a few browsers that came to our website. We will pick the top few and make dummies out of them. We can see that if different browsers have effect on our total transaction revenue."
   ]
  },
  {
   "cell_type": "code",
   "execution_count": 43,
   "metadata": {},
   "outputs": [
    {
     "data": {
      "text/plain": [
       "Chrome                      13978\n",
       "Safari                       3340\n",
       "Firefox                       829\n",
       "Internet Explorer             530\n",
       "Android Webview               300\n",
       "Edge                          267\n",
       "Opera Mini                    191\n",
       "Safari (in-app)               139\n",
       "Samsung Internet              137\n",
       "Opera                         134\n",
       "UC Browser                     48\n",
       "YaBrowser                      36\n",
       "Amazon Silk                    20\n",
       "Coc Coc                        14\n",
       "Android Browser                11\n",
       "Mozilla Compatible Agent        5\n",
       "MRCHROME                        5\n",
       "BlackBerry                      4\n",
       "Puffin                          3\n",
       "Nokia Browser                   2\n",
       "Nintendo Browser                2\n",
       "Maxthon                         2\n",
       "SeaMonkey                       1\n",
       "Playstation Vita Browser        1\n",
       "ADM                             1\n",
       "Name: browser, dtype: int64"
      ]
     },
     "execution_count": 43,
     "metadata": {},
     "output_type": "execute_result"
    }
   ],
   "source": [
    "df['browser'].value_counts()"
   ]
  },
  {
   "cell_type": "code",
   "execution_count": 44,
   "metadata": {},
   "outputs": [
    {
     "name": "stdout",
     "output_type": "stream",
     "text": [
      "<class 'pandas.core.frame.DataFrame'>\n",
      "RangeIndex: 20000 entries, 0 to 19999\n",
      "Data columns (total 73 columns):\n",
      "channelGrouping                     20000 non-null object\n",
      "visitNumber                         20000 non-null int64\n",
      "totals_bounces                      9873 non-null float64\n",
      "totals_hits                         20000 non-null int64\n",
      "totals_newVisits                    15088 non-null float64\n",
      "totals_pageviews                    19999 non-null float64\n",
      "totals_sessionQualityDim            9120 non-null float64\n",
      "totals_timeOnSite                   10101 non-null float64\n",
      "totals_totalTransactionRevenue      193 non-null float64\n",
      "totals_transactionRevenue           193 non-null float64\n",
      "totals_transactions                 196 non-null float64\n",
      "totals_visits                       20000 non-null int64\n",
      "value                               20000 non-null object\n",
      "country                             20000 non-null object\n",
      "hitNumber                           20000 non-null object\n",
      "source                              20000 non-null object\n",
      "channelGrouping_Affiliates          20000 non-null int32\n",
      "channelGrouping_Direct              20000 non-null int32\n",
      "channelGrouping_Display             20000 non-null int32\n",
      "channelGrouping_Organic Search      20000 non-null int32\n",
      "channelGrouping_Paid Search         20000 non-null int32\n",
      "channelGrouping_Referral            20000 non-null int32\n",
      "channelGrouping_Social              20000 non-null int32\n",
      "deviceCategory_desktop              20000 non-null int32\n",
      "deviceCategory_mobile               20000 non-null int32\n",
      "deviceCategory_tablet               20000 non-null int32\n",
      "continent_(not set)                 20000 non-null int32\n",
      "continent_Africa                    20000 non-null int32\n",
      "continent_Americas                  20000 non-null int32\n",
      "continent_Asia                      20000 non-null int32\n",
      "continent_Europe                    20000 non-null int32\n",
      "continent_Oceania                   20000 non-null int32\n",
      "operatingSystem_(not set)           20000 non-null int32\n",
      "operatingSystem_Android             20000 non-null int32\n",
      "operatingSystem_BlackBerry          20000 non-null int32\n",
      "operatingSystem_Chrome OS           20000 non-null int32\n",
      "operatingSystem_Firefox OS          20000 non-null int32\n",
      "operatingSystem_Linux               20000 non-null int32\n",
      "operatingSystem_Macintosh           20000 non-null int32\n",
      "operatingSystem_Nintendo Wii        20000 non-null int32\n",
      "operatingSystem_OS/2                20000 non-null int32\n",
      "operatingSystem_Playstation Vita    20000 non-null int32\n",
      "operatingSystem_Samsung             20000 non-null int32\n",
      "operatingSystem_Tizen               20000 non-null int32\n",
      "operatingSystem_Windows             20000 non-null int32\n",
      "operatingSystem_Windows Phone       20000 non-null int32\n",
      "operatingSystem_Xbox                20000 non-null int32\n",
      "operatingSystem_iOS                 20000 non-null int32\n",
      "browser_ADM                         20000 non-null int32\n",
      "browser_Amazon Silk                 20000 non-null int32\n",
      "browser_Android Browser             20000 non-null int32\n",
      "browser_Android Webview             20000 non-null int32\n",
      "browser_BlackBerry                  20000 non-null int32\n",
      "browser_Chrome                      20000 non-null int32\n",
      "browser_Coc Coc                     20000 non-null int32\n",
      "browser_Edge                        20000 non-null int32\n",
      "browser_Firefox                     20000 non-null int32\n",
      "browser_Internet Explorer           20000 non-null int32\n",
      "browser_MRCHROME                    20000 non-null int32\n",
      "browser_Maxthon                     20000 non-null int32\n",
      "browser_Mozilla Compatible Agent    20000 non-null int32\n",
      "browser_Nintendo Browser            20000 non-null int32\n",
      "browser_Nokia Browser               20000 non-null int32\n",
      "browser_Opera                       20000 non-null int32\n",
      "browser_Opera Mini                  20000 non-null int32\n",
      "browser_Playstation Vita Browser    20000 non-null int32\n",
      "browser_Puffin                      20000 non-null int32\n",
      "browser_Safari                      20000 non-null int32\n",
      "browser_Safari (in-app)             20000 non-null int32\n",
      "browser_Samsung Internet            20000 non-null int32\n",
      "browser_SeaMonkey                   20000 non-null int32\n",
      "browser_UC Browser                  20000 non-null int32\n",
      "browser_YaBrowser                   20000 non-null int32\n",
      "dtypes: float64(8), int32(57), int64(3), object(5)\n",
      "memory usage: 6.8+ MB\n"
     ]
    }
   ],
   "source": [
    "b_dummies = pd.get_dummies(df.browser, prefix = 'browser')\n",
    "b_dummies = b_dummies.astype(int)\n",
    "df = pd.concat([df, b_dummies], axis = 1)\n",
    "df = df.drop(columns = ['browser'])\n",
    "df.info()"
   ]
  },
  {
   "cell_type": "markdown",
   "metadata": {},
   "source": [
    "### Source"
   ]
  },
  {
   "cell_type": "markdown",
   "metadata": {},
   "source": [
    "We can see the effect of different advertisement or no advertisement will increase total transaction revenue or not.\n",
    "There are only three categories, and we can simple make dummies out of them."
   ]
  },
  {
   "cell_type": "code",
   "execution_count": 45,
   "metadata": {},
   "outputs": [
    {
     "name": "stdout",
     "output_type": "stream",
     "text": [
      "<class 'pandas.core.frame.DataFrame'>\n",
      "RangeIndex: 20000 entries, 0 to 19999\n",
      "Data columns (total 75 columns):\n",
      "channelGrouping                     20000 non-null object\n",
      "visitNumber                         20000 non-null int64\n",
      "totals_bounces                      9873 non-null float64\n",
      "totals_hits                         20000 non-null int64\n",
      "totals_newVisits                    15088 non-null float64\n",
      "totals_pageviews                    19999 non-null float64\n",
      "totals_sessionQualityDim            9120 non-null float64\n",
      "totals_timeOnSite                   10101 non-null float64\n",
      "totals_totalTransactionRevenue      193 non-null float64\n",
      "totals_transactionRevenue           193 non-null float64\n",
      "totals_transactions                 196 non-null float64\n",
      "totals_visits                       20000 non-null int64\n",
      "value                               20000 non-null object\n",
      "country                             20000 non-null object\n",
      "hitNumber                           20000 non-null object\n",
      "channelGrouping_Affiliates          20000 non-null int32\n",
      "channelGrouping_Direct              20000 non-null int32\n",
      "channelGrouping_Display             20000 non-null int32\n",
      "channelGrouping_Organic Search      20000 non-null int32\n",
      "channelGrouping_Paid Search         20000 non-null int32\n",
      "channelGrouping_Referral            20000 non-null int32\n",
      "channelGrouping_Social              20000 non-null int32\n",
      "deviceCategory_desktop              20000 non-null int32\n",
      "deviceCategory_mobile               20000 non-null int32\n",
      "deviceCategory_tablet               20000 non-null int32\n",
      "continent_(not set)                 20000 non-null int32\n",
      "continent_Africa                    20000 non-null int32\n",
      "continent_Americas                  20000 non-null int32\n",
      "continent_Asia                      20000 non-null int32\n",
      "continent_Europe                    20000 non-null int32\n",
      "continent_Oceania                   20000 non-null int32\n",
      "operatingSystem_(not set)           20000 non-null int32\n",
      "operatingSystem_Android             20000 non-null int32\n",
      "operatingSystem_BlackBerry          20000 non-null int32\n",
      "operatingSystem_Chrome OS           20000 non-null int32\n",
      "operatingSystem_Firefox OS          20000 non-null int32\n",
      "operatingSystem_Linux               20000 non-null int32\n",
      "operatingSystem_Macintosh           20000 non-null int32\n",
      "operatingSystem_Nintendo Wii        20000 non-null int32\n",
      "operatingSystem_OS/2                20000 non-null int32\n",
      "operatingSystem_Playstation Vita    20000 non-null int32\n",
      "operatingSystem_Samsung             20000 non-null int32\n",
      "operatingSystem_Tizen               20000 non-null int32\n",
      "operatingSystem_Windows             20000 non-null int32\n",
      "operatingSystem_Windows Phone       20000 non-null int32\n",
      "operatingSystem_Xbox                20000 non-null int32\n",
      "operatingSystem_iOS                 20000 non-null int32\n",
      "browser_ADM                         20000 non-null int32\n",
      "browser_Amazon Silk                 20000 non-null int32\n",
      "browser_Android Browser             20000 non-null int32\n",
      "browser_Android Webview             20000 non-null int32\n",
      "browser_BlackBerry                  20000 non-null int32\n",
      "browser_Chrome                      20000 non-null int32\n",
      "browser_Coc Coc                     20000 non-null int32\n",
      "browser_Edge                        20000 non-null int32\n",
      "browser_Firefox                     20000 non-null int32\n",
      "browser_Internet Explorer           20000 non-null int32\n",
      "browser_MRCHROME                    20000 non-null int32\n",
      "browser_Maxthon                     20000 non-null int32\n",
      "browser_Mozilla Compatible Agent    20000 non-null int32\n",
      "browser_Nintendo Browser            20000 non-null int32\n",
      "browser_Nokia Browser               20000 non-null int32\n",
      "browser_Opera                       20000 non-null int32\n",
      "browser_Opera Mini                  20000 non-null int32\n",
      "browser_Playstation Vita Browser    20000 non-null int32\n",
      "browser_Puffin                      20000 non-null int32\n",
      "browser_Safari                      20000 non-null int32\n",
      "browser_Safari (in-app)             20000 non-null int32\n",
      "browser_Samsung Internet            20000 non-null int32\n",
      "browser_SeaMonkey                   20000 non-null int32\n",
      "browser_UC Browser                  20000 non-null int32\n",
      "browser_YaBrowser                   20000 non-null int32\n",
      "source_campaign                     20000 non-null float64\n",
      "source_isTrueDirect                 20000 non-null float64\n",
      "source_referralPath                 20000 non-null float64\n",
      "dtypes: float64(11), int32(57), int64(3), object(4)\n",
      "memory usage: 7.1+ MB\n"
     ]
    }
   ],
   "source": [
    "s_dummies = pd.get_dummies(df.source, prefix = 'source')\n",
    "s_dummies = s_dummies.astype(float)\n",
    "df = pd.concat([df, s_dummies], axis = 1)\n",
    "df = df.drop(columns = ['source'])\n",
    "df.info()"
   ]
  },
  {
   "cell_type": "markdown",
   "metadata": {},
   "source": [
    "We drop the columns that we don't want to shrink our dataset"
   ]
  },
  {
   "cell_type": "code",
   "execution_count": 46,
   "metadata": {},
   "outputs": [],
   "source": [
    "df = df.drop(columns = ['continent_(not set)','operatingSystem_(not set)','operatingSystem_Tizen','operatingSystem_Windows Phone','operatingSystem_Xbox','operatingSystem_BlackBerry','operatingSystem_Samsung','operatingSystem_Firefox OS','operatingSystem_Nintendo Wii','operatingSystem_OS/2','operatingSystem_Playstation Vita', 'channelGrouping'])\n",
    "df = df.drop(columns = ['value','country','browser_ADM','browser_Amazon Silk','browser_Android Browser','browser_BlackBerry','browser_Coc Coc','browser_MRCHROME','browser_Maxthon','browser_Mozilla Compatible Agent','browser_Nintendo Browser','browser_Nokia Browser','browser_Opera','browser_Opera Mini','browser_Playstation Vita Browser','browser_Puffin','browser_Safari (in-app)','browser_Samsung Internet','browser_SeaMonkey','browser_UC Browser','browser_YaBrowser'])"
   ]
  },
  {
   "cell_type": "markdown",
   "metadata": {},
   "source": [
    "We fill in all the missing data with zeros and transform the data type of hitnumber. We suppose that a higher hitnumber will lead to more total transaction revenue."
   ]
  },
  {
   "cell_type": "markdown",
   "metadata": {},
   "source": [
    "Here we have cleaned our data, took the variables we wanted out, made it a balanced data, and all numerical. We can start apply machine learning models to our data."
   ]
  },
  {
   "cell_type": "code",
   "execution_count": 47,
   "metadata": {},
   "outputs": [
    {
     "name": "stdout",
     "output_type": "stream",
     "text": [
      "<class 'pandas.core.frame.DataFrame'>\n",
      "RangeIndex: 20000 entries, 0 to 19999\n",
      "Data columns (total 40 columns):\n",
      "visitNumber                       20000 non-null int64\n",
      "totals_bounces                    20000 non-null float64\n",
      "totals_hits                       20000 non-null int64\n",
      "totals_newVisits                  20000 non-null float64\n",
      "totals_pageviews                  20000 non-null float64\n",
      "totals_sessionQualityDim          20000 non-null float64\n",
      "totals_timeOnSite                 20000 non-null float64\n",
      "totals_totalTransactionRevenue    20000 non-null float64\n",
      "totals_visits                     20000 non-null int64\n",
      "hitNumber                         20000 non-null int64\n",
      "channelGrouping_Affiliates        20000 non-null int32\n",
      "channelGrouping_Direct            20000 non-null int32\n",
      "channelGrouping_Display           20000 non-null int32\n",
      "channelGrouping_Organic Search    20000 non-null int32\n",
      "channelGrouping_Paid Search       20000 non-null int32\n",
      "channelGrouping_Referral          20000 non-null int32\n",
      "channelGrouping_Social            20000 non-null int32\n",
      "deviceCategory_desktop            20000 non-null int32\n",
      "deviceCategory_mobile             20000 non-null int32\n",
      "deviceCategory_tablet             20000 non-null int32\n",
      "continent_Africa                  20000 non-null int32\n",
      "continent_Americas                20000 non-null int32\n",
      "continent_Asia                    20000 non-null int32\n",
      "continent_Europe                  20000 non-null int32\n",
      "continent_Oceania                 20000 non-null int32\n",
      "operatingSystem_Android           20000 non-null int32\n",
      "operatingSystem_Chrome OS         20000 non-null int32\n",
      "operatingSystem_Linux             20000 non-null int32\n",
      "operatingSystem_Macintosh         20000 non-null int32\n",
      "operatingSystem_Windows           20000 non-null int32\n",
      "operatingSystem_iOS               20000 non-null int32\n",
      "browser_Android Webview           20000 non-null int32\n",
      "browser_Chrome                    20000 non-null int32\n",
      "browser_Edge                      20000 non-null int32\n",
      "browser_Firefox                   20000 non-null int32\n",
      "browser_Internet Explorer         20000 non-null int32\n",
      "browser_Safari                    20000 non-null int32\n",
      "source_campaign                   20000 non-null float64\n",
      "source_isTrueDirect               20000 non-null float64\n",
      "source_referralPath               20000 non-null float64\n",
      "dtypes: float64(9), int32(27), int64(4)\n",
      "memory usage: 4.0 MB\n"
     ]
    }
   ],
   "source": [
    "df['hitNumber'] = pd.to_numeric(df['hitNumber'])\n",
    "df.fillna(0,inplace = True)\n",
    "df = df.drop(columns = ['totals_transactionRevenue','totals_transactions'])\n",
    "df.info()"
   ]
  },
  {
   "cell_type": "markdown",
   "metadata": {},
   "source": [
    "## Split data into feature and target, train and test"
   ]
  },
  {
   "cell_type": "markdown",
   "metadata": {},
   "source": [
    "Feature Matrix"
   ]
  },
  {
   "cell_type": "code",
   "execution_count": 48,
   "metadata": {},
   "outputs": [
    {
     "data": {
      "text/plain": [
       "(20000, 39)"
      ]
     },
     "execution_count": 48,
     "metadata": {},
     "output_type": "execute_result"
    }
   ],
   "source": [
    "X = df.drop('totals_totalTransactionRevenue', axis = 1)\n",
    "X.shape"
   ]
  },
  {
   "cell_type": "markdown",
   "metadata": {},
   "source": [
    "Target Array"
   ]
  },
  {
   "cell_type": "code",
   "execution_count": 49,
   "metadata": {},
   "outputs": [
    {
     "data": {
      "text/plain": [
       "(20000,)"
      ]
     },
     "execution_count": 49,
     "metadata": {},
     "output_type": "execute_result"
    }
   ],
   "source": [
    "y= df['totals_totalTransactionRevenue']\n",
    "y.shape"
   ]
  },
  {
   "cell_type": "markdown",
   "metadata": {},
   "source": [
    "We then do split test by using train_test_split, data is seperated into Xtrain, Xtest, ytrain, ytest."
   ]
  },
  {
   "cell_type": "code",
   "execution_count": 50,
   "metadata": {},
   "outputs": [],
   "source": [
    "from sklearn.model_selection import train_test_split\n",
    "\n",
    "Xtrain, Xtest, ytrain, ytest = train_test_split(X, y, random_state=1)"
   ]
  },
  {
   "cell_type": "markdown",
   "metadata": {},
   "source": [
    "We have allocated 15000 rows to our training data and 5000 to our testing data"
   ]
  },
  {
   "cell_type": "code",
   "execution_count": 51,
   "metadata": {},
   "outputs": [
    {
     "data": {
      "text/plain": [
       "(15000, 39)"
      ]
     },
     "execution_count": 51,
     "metadata": {},
     "output_type": "execute_result"
    }
   ],
   "source": [
    "Xtrain.shape"
   ]
  },
  {
   "cell_type": "code",
   "execution_count": 52,
   "metadata": {},
   "outputs": [
    {
     "data": {
      "text/plain": [
       "(5000, 39)"
      ]
     },
     "execution_count": 52,
     "metadata": {},
     "output_type": "execute_result"
    }
   ],
   "source": [
    "Xtest.shape"
   ]
  },
  {
   "cell_type": "code",
   "execution_count": 105,
   "metadata": {},
   "outputs": [
    {
     "data": {
      "text/plain": [
       "(15000,)"
      ]
     },
     "execution_count": 105,
     "metadata": {},
     "output_type": "execute_result"
    }
   ],
   "source": [
    "ytrain.shape"
   ]
  },
  {
   "cell_type": "code",
   "execution_count": 106,
   "metadata": {},
   "outputs": [
    {
     "data": {
      "text/plain": [
       "(5000,)"
      ]
     },
     "execution_count": 106,
     "metadata": {},
     "output_type": "execute_result"
    }
   ],
   "source": [
    "ytest.shape"
   ]
  },
  {
   "cell_type": "markdown",
   "metadata": {},
   "source": [
    "## Scaling Data"
   ]
  },
  {
   "cell_type": "markdown",
   "metadata": {},
   "source": [
    "I will use StandardScaler for scaling my data so that the variance can be standardized."
   ]
  },
  {
   "cell_type": "code",
   "execution_count": 53,
   "metadata": {},
   "outputs": [],
   "source": [
    "from sklearn.preprocessing import StandardScaler \n",
    "std = StandardScaler()\n",
    "\n",
    "Xtrain = std.fit_transform(Xtrain)\n",
    "Xtest = std.transform(Xtest)"
   ]
  },
  {
   "cell_type": "markdown",
   "metadata": {},
   "source": [
    "## Supervised Model"
   ]
  },
  {
   "cell_type": "markdown",
   "metadata": {},
   "source": [
    "I will use KNN regression and Ridge regression for my supervised model"
   ]
  },
  {
   "cell_type": "markdown",
   "metadata": {},
   "source": [
    "##### KNN"
   ]
  },
  {
   "cell_type": "markdown",
   "metadata": {},
   "source": [
    "First I will make a plot to see how many Ks I would use, seems like I would be using more than 10."
   ]
  },
  {
   "cell_type": "code",
   "execution_count": 54,
   "metadata": {},
   "outputs": [
    {
     "data": {
      "text/plain": [
       "Text(0,0.5,'MSE')"
      ]
     },
     "execution_count": 54,
     "metadata": {},
     "output_type": "execute_result"
    },
    {
     "data": {
      "image/png": "[encoded data removed]",
      "text/plain": [
       "<Figure size 432x288 with 1 Axes>"
      ]
     },
     "metadata": {},
     "output_type": "display_data"
    }
   ],
   "source": [
    "from sklearn.neighbors import KNeighborsRegressor\n",
    "train_score_array = []\n",
    "test_score_array = []\n",
    "\n",
    "for k in range(1,10):\n",
    "    knn_reg = KNeighborsRegressor(k)\n",
    "    knn_reg.fit(Xtrain, ytrain)\n",
    "    train_score_array.append(knn_reg.score(Xtrain, ytrain))\n",
    "    test_score_array.append(knn_reg.score(Xtest, ytest))\n",
    "\n",
    "x_axis = range(1,10)\n",
    "plt.plot(x_axis, train_score_array, c = 'g', label = 'Train Score')\n",
    "plt.plot(x_axis, test_score_array, c = 'b', label = 'Test Score')\n",
    "plt.legend()\n",
    "plt.xlabel('k')\n",
    "plt.ylabel('MSE')"
   ]
  },
  {
   "cell_type": "markdown",
   "metadata": {},
   "source": [
    "I don't know how many Ks I would have to use, so I find the best fit using gridsearch."
   ]
  },
  {
   "cell_type": "code",
   "execution_count": 136,
   "metadata": {},
   "outputs": [
    {
     "data": {
      "text/plain": [
       "0.11253393752869935"
      ]
     },
     "execution_count": 136,
     "metadata": {},
     "output_type": "execute_result"
    }
   ],
   "source": [
    "from sklearn.model_selection import GridSearchCV\n",
    "knn = KNeighborsRegressor()\n",
    "param_grid = {'n_neighbors':[1, 5, 10, 15, 20]}\n",
    "\n",
    "grid_knn = GridSearchCV(knn, param_grid=param_grid, cv = 5)\n",
    "grid_knn.fit(Xtrain, ytrain)\n",
    "grid_knn.score(Xtrain, ytrain)"
   ]
  },
  {
   "cell_type": "markdown",
   "metadata": {},
   "source": [
    "This is our best score "
   ]
  },
  {
   "cell_type": "markdown",
   "metadata": {},
   "source": [
    "Now we test it on our testing datasets"
   ]
  },
  {
   "cell_type": "code",
   "execution_count": 104,
   "metadata": {},
   "outputs": [
    {
     "data": {
      "text/plain": [
       "0.03178629064343508"
      ]
     },
     "execution_count": 104,
     "metadata": {},
     "output_type": "execute_result"
    }
   ],
   "source": [
    "grid_knn.score(Xtest, ytest)"
   ]
  },
  {
   "cell_type": "code",
   "execution_count": 57,
   "metadata": {},
   "outputs": [
    {
     "data": {
      "text/plain": [
       "{'n_neighbors': 20}"
      ]
     },
     "execution_count": 57,
     "metadata": {},
     "output_type": "execute_result"
    }
   ],
   "source": [
    "grid_knn.best_params_"
   ]
  },
  {
   "cell_type": "markdown",
   "metadata": {},
   "source": [
    "We use cross_val_score to cross validate our data on five folds and then get the mean of the five scores. That would be our R2 for this model on this dataset."
   ]
  },
  {
   "cell_type": "code",
   "execution_count": 129,
   "metadata": {},
   "outputs": [
    {
     "data": {
      "text/plain": [
       "array([-0.49881622, -0.09720062, -0.11720316, -0.36397059, -1.18508231])"
      ]
     },
     "execution_count": 129,
     "metadata": {},
     "output_type": "execute_result"
    }
   ],
   "source": [
    "from sklearn.cross_validation import cross_val_score\n",
    "scores = cross_val_score(knn, X, y, cv=5, scoring='r2')\n",
    "scores"
   ]
  },
  {
   "cell_type": "code",
   "execution_count": 130,
   "metadata": {},
   "outputs": [
    {
     "data": {
      "text/plain": [
       "-0.4524545785094273"
      ]
     },
     "execution_count": 130,
     "metadata": {},
     "output_type": "execute_result"
    }
   ],
   "source": [
    "scores.mean()"
   ]
  },
  {
   "cell_type": "markdown",
   "metadata": {},
   "source": [
    "##### Ridge"
   ]
  },
  {
   "cell_type": "markdown",
   "metadata": {},
   "source": [
    "We look at the correlation matrix first as ridge regression is used to mitigate multicollinearity effects."
   ]
  },
  {
   "cell_type": "code",
   "execution_count": 60,
   "metadata": {},
   "outputs": [
    {
     "data": {
      "text/plain": [
       "<matplotlib.axes._subplots.AxesSubplot at 0x187811c9048>"
      ]
     },
     "execution_count": 60,
     "metadata": {},
     "output_type": "execute_result"
    },
    {
     "data": {
      "image/png": "[encoded data removed]",
      "text/plain": [
       "<Figure size 432x288 with 2 Axes>"
      ]
     },
     "metadata": {},
     "output_type": "display_data"
    }
   ],
   "source": [
    "import seaborn as sns\n",
    "corr = df.corr()\n",
    "sns.heatmap(corr, \n",
    "            xticklabels=corr.columns.values,\n",
    "            yticklabels=corr.columns.values)"
   ]
  },
  {
   "cell_type": "markdown",
   "metadata": {},
   "source": [
    "We can see that there are some high correlation between some variables, so we can try to fit the ridge regression to see if it will increase our model score"
   ]
  },
  {
   "cell_type": "code",
   "execution_count": 61,
   "metadata": {},
   "outputs": [],
   "source": [
    "from  sklearn.linear_model import Ridge\n",
    "\n",
    "x_range = [0.01, 0.1, 1, 10, 100]\n",
    "train_score_list = []\n",
    "test_score_list = []\n",
    "\n",
    "for alpha in x_range: \n",
    "    ridge = Ridge(alpha)\n",
    "    ridge.fit(Xtrain,ytrain)\n",
    "    train_score_list.append(ridge.score(Xtrain,ytrain))\n",
    "    test_score_list.append(ridge.score(Xtest, ytest))"
   ]
  },
  {
   "cell_type": "code",
   "execution_count": 62,
   "metadata": {},
   "outputs": [
    {
     "data": {
      "text/plain": [
       "Text(0.5,0,'$\\\\alpha$')"
      ]
     },
     "execution_count": 62,
     "metadata": {},
     "output_type": "execute_result"
    },
    {
     "data": {
      "image/png": "[encoded data removed]",
      "text/plain": [
       "<Figure size 432x288 with 1 Axes>"
      ]
     },
     "metadata": {},
     "output_type": "display_data"
    }
   ],
   "source": [
    "plt.plot(x_range, train_score_list, c = 'g', label = 'Train Score')\n",
    "plt.plot(x_range, test_score_list, c = 'b', label = 'Test Score')\n",
    "plt.xscale('log')\n",
    "plt.legend(loc = 3)\n",
    "plt.xlabel(r'$\\alpha$')"
   ]
  },
  {
   "cell_type": "markdown",
   "metadata": {},
   "source": [
    "We use grid search to find the best fit for ridge."
   ]
  },
  {
   "cell_type": "code",
   "execution_count": 63,
   "metadata": {},
   "outputs": [
    {
     "data": {
      "text/plain": [
       "0.054990797613087776"
      ]
     },
     "execution_count": 63,
     "metadata": {},
     "output_type": "execute_result"
    }
   ],
   "source": [
    "ridge = Ridge()\n",
    "param_grid = {'alpha':[0.01, 0.1, 1, 10, 100]}\n",
    "\n",
    "grid_ridge = GridSearchCV(ridge, param_grid=param_grid, cv = 5)\n",
    "grid_ridge.fit(Xtrain, ytrain)\n",
    "grid_ridge.score(Xtrain, ytrain)"
   ]
  },
  {
   "cell_type": "code",
   "execution_count": 132,
   "metadata": {},
   "outputs": [
    {
     "data": {
      "text/plain": [
       "0.10166782494287628"
      ]
     },
     "execution_count": 132,
     "metadata": {},
     "output_type": "execute_result"
    }
   ],
   "source": [
    "grid_ridge.score(Xtest, ytest)"
   ]
  },
  {
   "cell_type": "code",
   "execution_count": 65,
   "metadata": {},
   "outputs": [
    {
     "data": {
      "text/plain": [
       "{'alpha': 100}"
      ]
     },
     "execution_count": 65,
     "metadata": {},
     "output_type": "execute_result"
    }
   ],
   "source": [
    "grid_ridge.best_params_"
   ]
  },
  {
   "cell_type": "markdown",
   "metadata": {},
   "source": [
    "We then use cross_val_score to cross validate our model with the whole data then get the average score of the 5 R2s to test how good our model is."
   ]
  },
  {
   "cell_type": "code",
   "execution_count": 133,
   "metadata": {},
   "outputs": [
    {
     "data": {
      "text/plain": [
       "array([-0.0046764 , -0.0007685 , -0.00013197, -0.00096547, -0.00718244])"
      ]
     },
     "execution_count": 133,
     "metadata": {},
     "output_type": "execute_result"
    }
   ],
   "source": [
    "from sklearn.cross_validation import cross_val_score\n",
    "scores = cross_val_score(ridge, X, y, cv=5, scoring='r2')\n",
    "scores"
   ]
  },
  {
   "cell_type": "code",
   "execution_count": 134,
   "metadata": {},
   "outputs": [
    {
     "data": {
      "text/plain": [
       "-0.0027449550989414374"
      ]
     },
     "execution_count": 134,
     "metadata": {},
     "output_type": "execute_result"
    }
   ],
   "source": [
    "scores.mean()"
   ]
  },
  {
   "cell_type": "markdown",
   "metadata": {},
   "source": [
    "## Unsupervised Model"
   ]
  },
  {
   "cell_type": "markdown",
   "metadata": {},
   "source": [
    "### Clustering"
   ]
  },
  {
   "cell_type": "markdown",
   "metadata": {},
   "source": [
    "#####  KMeans"
   ]
  },
  {
   "cell_type": "markdown",
   "metadata": {},
   "source": [
    "First, I will plot an Elbow Curve to see how many cluster we should use for clustering"
   ]
  },
  {
   "cell_type": "code",
   "execution_count": 142,
   "metadata": {},
   "outputs": [],
   "source": [
    "import pylab as pl\n",
    "import pandas\n",
    "from sklearn.cluster import KMeans"
   ]
  },
  {
   "cell_type": "code",
   "execution_count": 143,
   "metadata": {},
   "outputs": [],
   "source": [
    "Y = y\n",
    "Y = Y[:, np.newaxis]"
   ]
  },
  {
   "cell_type": "code",
   "execution_count": 144,
   "metadata": {},
   "outputs": [
    {
     "data": {
      "image/png": "[encoded data removed]",
      "text/plain": [
       "<Figure size 432x288 with 1 Axes>"
      ]
     },
     "metadata": {},
     "output_type": "display_data"
    }
   ],
   "source": [
    "Nc = range(1, 20)\n",
    "kmeans = [KMeans(n_clusters=i) for i in Nc]\n",
    "kmeans\n",
    "score = [kmeans[i].fit(Y).score(Y) for i in range(len(kmeans))]\n",
    "score\n",
    "pl.plot(Nc,score)\n",
    "pl.xlabel('Number of Clusters')\n",
    "pl.ylabel('Score')\n",
    "pl.title('Elbow Curve')\n",
    "pl.show()"
   ]
  },
  {
   "cell_type": "markdown",
   "metadata": {},
   "source": [
    "I will choose 3 clusters based on the Elbow Curve since the elbow is around 3"
   ]
  },
  {
   "cell_type": "code",
   "execution_count": 161,
   "metadata": {},
   "outputs": [
    {
     "data": {
      "text/plain": [
       "<matplotlib.collections.PathCollection at 0x1878bb621d0>"
      ]
     },
     "execution_count": 161,
     "metadata": {},
     "output_type": "execute_result"
    },
    {
     "data": {
      "image/png": "[encoded data removed]",
      "text/plain": [
       "<Figure size 432x288 with 1 Axes>"
      ]
     },
     "metadata": {},
     "output_type": "display_data"
    }
   ],
   "source": [
    "from sklearn.datasets.samples_generator import make_blobs\n",
    "X, y_true = make_blobs(n_samples=20000, centers=3,\n",
    "                       cluster_std=0.60, random_state=0)\n",
    "plt.scatter(X[:, 0], X[:, 1], s=50)"
   ]
  },
  {
   "cell_type": "code",
   "execution_count": 162,
   "metadata": {},
   "outputs": [],
   "source": [
    "from sklearn.cluster import KMeans\n",
    "kmeans = KMeans(n_clusters=3)\n",
    "kmeans.fit(X)\n",
    "y_kmeans = kmeans.predict(X)"
   ]
  },
  {
   "cell_type": "code",
   "execution_count": 163,
   "metadata": {},
   "outputs": [
    {
     "data": {
      "text/plain": [
       "<matplotlib.collections.PathCollection at 0x1878bbbe630>"
      ]
     },
     "execution_count": 163,
     "metadata": {},
     "output_type": "execute_result"
    },
    {
     "data": {
      "image/png": "[encoded data removed]",
      "text/plain": [
       "<Figure size 432x288 with 1 Axes>"
      ]
     },
     "metadata": {},
     "output_type": "display_data"
    }
   ],
   "source": [
    "plt.scatter(X[:, 0], X[:, 1], c=y_kmeans, s=50, cmap='viridis')\n",
    "\n",
    "centers = kmeans.cluster_centers_\n",
    "plt.scatter(centers[:, 0], centers[:, 1], c='black', alpha=0.5)"
   ]
  },
  {
   "cell_type": "markdown",
   "metadata": {},
   "source": [
    "As a result, out of 20000 datapoints, we seperate it into Three clusters."
   ]
  },
  {
   "cell_type": "markdown",
   "metadata": {},
   "source": [
    "##### GaussianMixture"
   ]
  },
  {
   "cell_type": "markdown",
   "metadata": {},
   "source": [
    "We are going to cuntinue using the results from the elbow curve, which is 3 clusters. Then fit it into the Gaussian Mixture."
   ]
  },
  {
   "cell_type": "code",
   "execution_count": 164,
   "metadata": {},
   "outputs": [
    {
     "data": {
      "image/png": "[encoded data removed]",
      "text/plain": [
       "<Figure size 432x288 with 1 Axes>"
      ]
     },
     "metadata": {},
     "output_type": "display_data"
    }
   ],
   "source": [
    "from sklearn.mixture import GaussianMixture\n",
    "gmm = GaussianMixture(n_components=3).fit(X)\n",
    "labels = gmm.predict(X)\n",
    "plt.scatter(X[:, 0], X[:, 1], c=labels, s=40, cmap='viridis');"
   ]
  },
  {
   "cell_type": "markdown",
   "metadata": {},
   "source": [
    "The predict_proba gives us the probability that any point belongs to one of the three clusters."
   ]
  },
  {
   "cell_type": "code",
   "execution_count": 177,
   "metadata": {},
   "outputs": [
    {
     "name": "stdout",
     "output_type": "stream",
     "text": [
      "[[0.    0.003 0.997]\n",
      " [0.998 0.002 0.   ]\n",
      " [1.    0.    0.   ]\n",
      " [1.    0.    0.   ]\n",
      " [1.    0.    0.   ]\n",
      " [0.989 0.011 0.   ]\n",
      " [0.    0.    1.   ]\n",
      " [0.    1.    0.   ]\n",
      " [0.    0.    1.   ]\n",
      " [1.    0.    0.   ]]\n"
     ]
    }
   ],
   "source": [
    "probs = gmm.predict_proba(X)\n",
    "print(probs[:10].round(3))"
   ]
  },
  {
   "cell_type": "markdown",
   "metadata": {},
   "source": [
    "### Dimensional Reduction"
   ]
  },
  {
   "cell_type": "markdown",
   "metadata": {},
   "source": [
    "#### ISO Map"
   ]
  },
  {
   "cell_type": "code",
   "execution_count": 90,
   "metadata": {},
   "outputs": [],
   "source": [
    "from sklearn.manifold import Isomap"
   ]
  },
  {
   "cell_type": "code",
   "execution_count": 91,
   "metadata": {},
   "outputs": [
    {
     "data": {
      "text/plain": [
       "(15000, 2)"
      ]
     },
     "execution_count": 91,
     "metadata": {},
     "output_type": "execute_result"
    }
   ],
   "source": [
    "iso = Isomap(n_components=2)\n",
    "iso.fit(Xtrain)\n",
    "data_projected = iso.transform(Xtrain)\n",
    "data_projected.shape"
   ]
  },
  {
   "cell_type": "markdown",
   "metadata": {},
   "source": [
    "We used ISO Map to reduce to only 2 dimensions"
   ]
  },
  {
   "cell_type": "markdown",
   "metadata": {},
   "source": [
    "##### Use reduced dataset on supervised learning above"
   ]
  },
  {
   "cell_type": "markdown",
   "metadata": {},
   "source": [
    "We used the reduced dataset on the KNN Regressor we used in supervise training"
   ]
  },
  {
   "cell_type": "code",
   "execution_count": 97,
   "metadata": {},
   "outputs": [],
   "source": [
    "knn3 = KNeighborsRegressor(n_neighbors=4)\n",
    "knn4 = KNeighborsRegressor(n_neighbors=4)"
   ]
  },
  {
   "cell_type": "code",
   "execution_count": 98,
   "metadata": {},
   "outputs": [
    {
     "data": {
      "text/plain": [
       "KNeighborsRegressor(algorithm='auto', leaf_size=30, metric='minkowski',\n",
       "          metric_params=None, n_jobs=1, n_neighbors=4, p=2,\n",
       "          weights='uniform')"
      ]
     },
     "execution_count": 98,
     "metadata": {},
     "output_type": "execute_result"
    }
   ],
   "source": [
    "knn3.fit(Xtrain, ytrain)\n",
    "knn4.fit(data_projected, ytrain)"
   ]
  },
  {
   "cell_type": "markdown",
   "metadata": {},
   "source": [
    "Original Dataset"
   ]
  },
  {
   "cell_type": "code",
   "execution_count": 99,
   "metadata": {},
   "outputs": [
    {
     "data": {
      "text/plain": [
       "0.36997090426729795"
      ]
     },
     "execution_count": 99,
     "metadata": {},
     "output_type": "execute_result"
    }
   ],
   "source": [
    "knn3.score(Xtrain, ytrain)"
   ]
  },
  {
   "cell_type": "markdown",
   "metadata": {},
   "source": [
    "Transformed Dataset"
   ]
  },
  {
   "cell_type": "code",
   "execution_count": 100,
   "metadata": {},
   "outputs": [
    {
     "data": {
      "text/plain": [
       "0.2914060753535175"
      ]
     },
     "execution_count": 100,
     "metadata": {},
     "output_type": "execute_result"
    }
   ],
   "source": [
    "knn4.score(data_projected, ytrain)"
   ]
  },
  {
   "cell_type": "markdown",
   "metadata": {},
   "source": [
    "Compared with each other, we can see that the model score decreased a little. This is within prediction, because we lost imformation while using dimention reduction (ISO Map), but now we have less dimensions which will robust our dataset and model."
   ]
  },
  {
   "cell_type": "markdown",
   "metadata": {},
   "source": [
    "##### PCA"
   ]
  },
  {
   "cell_type": "code",
   "execution_count": 76,
   "metadata": {},
   "outputs": [
    {
     "data": {
      "text/plain": [
       "array([1.10804452e-01, 9.08539030e-02, 7.53910170e-02, 6.27116581e-02,\n",
       "       5.59559133e-02, 5.21606959e-02, 3.66973215e-02, 3.34725193e-02,\n",
       "       3.18510808e-02, 3.14884356e-02, 2.95251771e-02, 2.87860686e-02,\n",
       "       2.78197852e-02, 2.71402451e-02, 2.69982632e-02, 2.64640008e-02,\n",
       "       2.61943429e-02, 2.59593189e-02, 2.50605582e-02, 2.49716186e-02,\n",
       "       2.35604160e-02, 2.17723198e-02, 2.08996304e-02, 2.03586250e-02,\n",
       "       1.90889609e-02, 1.58242376e-02, 1.14729577e-02, 8.17402433e-03,\n",
       "       5.22705535e-03, 2.04897884e-03, 6.62464350e-04, 4.36031570e-04,\n",
       "       1.20523284e-04, 4.73994760e-05, 2.18523252e-32, 1.34999534e-32,\n",
       "       4.60296560e-33, 1.50185149e-33, 7.44679590e-34])"
      ]
     },
     "execution_count": 76,
     "metadata": {},
     "output_type": "execute_result"
    }
   ],
   "source": [
    "from sklearn.decomposition import PCA\n",
    "pca = PCA(n_components = None)\n",
    "X_train_pca = pca.fit_transform(Xtrain)\n",
    "X_test_pca = pca.transform(Xtest)\n",
    "explained_variance = pca.explained_variance_ratio_\n",
    "explained_variance"
   ]
  },
  {
   "cell_type": "markdown",
   "metadata": {},
   "source": [
    "We can visualize it and decide how many components we want."
   ]
  },
  {
   "cell_type": "code",
   "execution_count": 77,
   "metadata": {},
   "outputs": [
    {
     "data": {
      "image/png": "[encoded data removed]",
      "text/plain": [
       "<Figure size 432x288 with 1 Axes>"
      ]
     },
     "metadata": {},
     "output_type": "display_data"
    }
   ],
   "source": [
    "pca = PCA().fit(Xtrain)\n",
    "plt.plot(np.cumsum(pca.explained_variance_ratio_))\n",
    "plt.xlabel('number of components')\n",
    "plt.ylabel('cumulative explained variance');"
   ]
  },
  {
   "cell_type": "markdown",
   "metadata": {},
   "source": [
    "We look at the explained_variance to see how many components we want to use."
   ]
  },
  {
   "cell_type": "markdown",
   "metadata": {},
   "source": [
    "We would like to use 6 components as it explaines around 45% of the variance in our data"
   ]
  },
  {
   "cell_type": "code",
   "execution_count": 78,
   "metadata": {},
   "outputs": [],
   "source": [
    "pca = PCA(n_components = 6)\n",
    "X_train = pca.fit_transform(Xtrain)\n",
    "X_test = pca.transform(Xtest)"
   ]
  },
  {
   "cell_type": "code",
   "execution_count": 79,
   "metadata": {},
   "outputs": [
    {
     "data": {
      "text/plain": [
       "LogisticRegression(C=1.0, class_weight=None, dual=False, fit_intercept=True,\n",
       "          intercept_scaling=1, max_iter=100, multi_class='ovr', n_jobs=1,\n",
       "          penalty='l2', random_state=None, solver='liblinear', tol=0.0001,\n",
       "          verbose=0, warm_start=False)"
      ]
     },
     "execution_count": 79,
     "metadata": {},
     "output_type": "execute_result"
    }
   ],
   "source": [
    "from sklearn.linear_model import LogisticRegression\n",
    "classifier = LogisticRegression()\n",
    "classifier.fit(X_train, ytrain)"
   ]
  },
  {
   "cell_type": "code",
   "execution_count": 80,
   "metadata": {},
   "outputs": [],
   "source": [
    "y_pred = classifier.predict(X_test)"
   ]
  },
  {
   "cell_type": "markdown",
   "metadata": {},
   "source": [
    "#### Use reduced dataset on supervised learning above"
   ]
  },
  {
   "cell_type": "markdown",
   "metadata": {},
   "source": [
    "We used the reduced dataset on the KNN Regressor we used in supervise training"
   ]
  },
  {
   "cell_type": "code",
   "execution_count": 81,
   "metadata": {},
   "outputs": [],
   "source": [
    "knn1 = KNeighborsRegressor(n_neighbors=2)\n",
    "knn2 = KNeighborsRegressor(n_neighbors=2)"
   ]
  },
  {
   "cell_type": "code",
   "execution_count": 82,
   "metadata": {},
   "outputs": [
    {
     "data": {
      "text/plain": [
       "KNeighborsRegressor(algorithm='auto', leaf_size=30, metric='minkowski',\n",
       "          metric_params=None, n_jobs=1, n_neighbors=2, p=2,\n",
       "          weights='uniform')"
      ]
     },
     "execution_count": 82,
     "metadata": {},
     "output_type": "execute_result"
    }
   ],
   "source": [
    "knn1.fit(Xtrain, ytrain)\n",
    "knn2.fit(X_train, ytrain)"
   ]
  },
  {
   "cell_type": "markdown",
   "metadata": {},
   "source": [
    "Original Dataset"
   ]
  },
  {
   "cell_type": "code",
   "execution_count": 83,
   "metadata": {},
   "outputs": [
    {
     "data": {
      "text/plain": [
       "0.6005269141047757"
      ]
     },
     "execution_count": 83,
     "metadata": {},
     "output_type": "execute_result"
    }
   ],
   "source": [
    "knn1.score(Xtrain, ytrain)"
   ]
  },
  {
   "cell_type": "markdown",
   "metadata": {},
   "source": [
    "Reduced Dataset"
   ]
  },
  {
   "cell_type": "code",
   "execution_count": 84,
   "metadata": {},
   "outputs": [
    {
     "data": {
      "text/plain": [
       "0.5371778359671764"
      ]
     },
     "execution_count": 84,
     "metadata": {},
     "output_type": "execute_result"
    }
   ],
   "source": [
    "knn2.score(X_train, ytrain)"
   ]
  },
  {
   "cell_type": "markdown",
   "metadata": {},
   "source": [
    "Compared with each other, we can see that the model score decreased a little. \n",
    "This is within prediction, because we lost imformation while using dimention reduction (PCA), but now we have less dimensions which will robust our dataset and model."
   ]
  }
 ],
 "metadata": {
  "kernelspec": {
   "display_name": "Python 3",
   "language": "python",
   "name": "python3"
  },
  "language_info": {
   "codemirror_mode": {
    "name": "ipython",
    "version": 3
   },
   "file_extension": ".py",
   "mimetype": "text/x-python",
   "name": "python",
   "nbconvert_exporter": "python",
   "pygments_lexer": "ipython3",
   "version": "3.6.5"
  }
 },
 "nbformat": 4,
 "nbformat_minor": 2
}
